{
  "nbformat": 4,
  "nbformat_minor": 0,
  "metadata": {
    "colab": {
      "name": "Project Building Recommender System with Similarity Function.ipynb",
      "provenance": [],
      "collapsed_sections": []
    },
    "kernelspec": {
      "name": "python3",
      "display_name": "Python 3"
    }
  },
  "cells": [
    {
      "cell_type": "markdown",
      "metadata": {
        "id": "kLv-fguDWyph"
      },
      "source": [
        "# **Project Machine Learning with Python: Building Recommender System with Similarity Function**\n",
        "\n",
        "---\n",
        "\n"
      ]
    },
    {
      "cell_type": "markdown",
      "metadata": {
        "id": "gRoP9qK9W942"
      },
      "source": [
        "# **About This Course:**\n",
        "Pada bagian sebelumnya kita telah melihat bagaimana recommender system dibuat hanya dengan menggunakan average rating, dengan mengurutkan score yang terdapat komponen average rating secara descending, kita dapat mengetahui (secara estimasi) film mana yang menurut para audience paling menarik."
      ]
    },
    {
      "cell_type": "markdown",
      "metadata": {
        "id": "9aK86bAnXE6F"
      },
      "source": [
        "# **1. Introduction**\n",
        "Membuat sebuah sistem rekomendasi berdasarkan konten dari sebuah film. "
      ]
    },
    {
      "cell_type": "markdown",
      "metadata": {
        "id": "UJfuBWj7XLAi"
      },
      "source": [
        "# **Pengenalan Project**\n",
        "Masih ingat dengan project ***Building Recommender System using Python***?\n",
        "\n",
        "Pada bagian sebelumnya kita telah melihat bagaimana recommender system dibuat hanya dengan menggunakan average rating, dengan mengurutkan score yang terdapat komponen average rating secara descending, kita dapat mengetahui (secara estimasi) film mana yang menurut para audience paling menarik.\n",
        "\n",
        "Kali ini, kita akan membuat recommender system yang menggunakan Content/feature dari film/entitas tersebut, kemudian melakukan perhitungan terhadap kesamaannya satu dan yang lain sehingga ketika kita menunjuk ke satu film, kita akan mendapat beberapa film lain yang memiliki kesamaan dengan film tersebut. Hal ini biasa kita sebut sebagai Content Based Recommender System.\n",
        "\n",
        "Dengan membandingkan kesamaan plot yang ada dan genre yang ada, ketika audience lebih menyukai film Narnia, maka content based recommender system ini akan juga merekomendasikan film seperti Harry Potter atau The Lords of The Rings yang memiliki genre yang mirip"
      ]
    },
    {
      "cell_type": "markdown",
      "metadata": {
        "id": "nmyGejXqX0Vb"
      },
      "source": [
        "# **2. Task 1 - Unloading and Checking Datasets**\n",
        "Pada bagian ini akan dilakukan import library yang dibutuhkan dan pembacaan dataset yang digunakan. "
      ]
    },
    {
      "cell_type": "markdown",
      "metadata": {
        "id": "yUtrxIJNXWLv"
      },
      "source": [
        "# **Import Basics Library and File Unloading**\n",
        "Langkah pertama yang harus kita lakukan adalah melakukan import library yang dibutuhkan untuk pengerjaan project ini dan melakukan pembacaan dataset.\n",
        "\n",
        "**Notes:**\n",
        "Library yang akan kita gunakan adalah `pandas as pd` dan `numpy as np`\n",
        "Dataset yang akan digunakan adalah `movie_rating_df.csv`\n",
        "\n",
        "**Akses dataset:**\n",
        "\n",
        "**`movie_rating_df.csv`** = https://dqlab-dataset.s3-ap-southeast-1.amazonaws.com/movie_rating_df.csv"
      ]
    },
    {
      "cell_type": "code",
      "metadata": {
        "id": "hGKuHbd-Xr3S"
      },
      "source": [
        "#import library yang dibutuhkan\n",
        "import pandas as pd\n",
        "import numpy as np\n",
        "\n",
        "#lakukan pembacaan dataset\n",
        "movie_rating_df = pd.read_csv('https://dqlab-dataset.s3-ap-southeast-1.amazonaws.com/movie_rating_df.csv') #untuk menyimpan movie_rating_df.csv\n"
      ],
      "execution_count": 19,
      "outputs": []
    },
    {
      "cell_type": "markdown",
      "metadata": {
        "id": "CILoAXXuYLX-"
      },
      "source": [
        "# **Menampilkan 5 data teratas dan tipe data**\n",
        "Setelah sebelumnya kita sudah menyimpan dataset pada variabel `movie_rating_df`, hal selanjutnya yang akan kita lakukan adalah menampilkan lima baris teratas dari dataset tersebut dan menampilkan info mengenai tipe data dari tiap kolom yang ada pada dataset. "
      ]
    },
    {
      "cell_type": "code",
      "metadata": {
        "colab": {
          "base_uri": "https://localhost:8080/"
        },
        "id": "K1q8lHCTYTsO",
        "outputId": "73661c65-ed67-4c5f-dd36-cf1f7c5d2388"
      },
      "source": [
        "#tampilkan 5 baris teratas dari movive_rating_df\n",
        "print(movie_rating_df.head())\n",
        "\n",
        "#tampilkan info mengenai tipe data dari tiap kolom\n",
        "print(movie_rating_df.info())"
      ],
      "execution_count": 20,
      "outputs": [
        {
          "output_type": "stream",
          "text": [
            "      tconst titleType  ... averageRating numVotes\n",
            "0  tt0000001     short  ...           5.6     1608\n",
            "1  tt0000002     short  ...           6.0      197\n",
            "2  tt0000003     short  ...           6.5     1285\n",
            "3  tt0000004     short  ...           6.1      121\n",
            "4  tt0000005     short  ...           6.1     2050\n",
            "\n",
            "[5 rows x 11 columns]\n",
            "<class 'pandas.core.frame.DataFrame'>\n",
            "RangeIndex: 751614 entries, 0 to 751613\n",
            "Data columns (total 11 columns):\n",
            " #   Column          Non-Null Count   Dtype  \n",
            "---  ------          --------------   -----  \n",
            " 0   tconst          751614 non-null  object \n",
            " 1   titleType       751614 non-null  object \n",
            " 2   primaryTitle    751614 non-null  object \n",
            " 3   originalTitle   751614 non-null  object \n",
            " 4   isAdult         751614 non-null  int64  \n",
            " 5   startYear       751614 non-null  float64\n",
            " 6   endYear         16072 non-null   float64\n",
            " 7   runtimeMinutes  751614 non-null  float64\n",
            " 8   genres          486766 non-null  object \n",
            " 9   averageRating   751614 non-null  float64\n",
            " 10  numVotes        751614 non-null  int64  \n",
            "dtypes: float64(4), int64(2), object(5)\n",
            "memory usage: 63.1+ MB\n",
            "None\n"
          ],
          "name": "stdout"
        }
      ]
    },
    {
      "cell_type": "markdown",
      "metadata": {
        "id": "0VV4WW-kYWyk"
      },
      "source": [
        "# **Add Actors Dataframe**\n",
        "Dari output yang sudah dihasilkan sebelumnya, kita dapat memperoleh list film dengan beberapa metadata seperti `isAdult`, `runtimeMinutes`, dan `genres` nya\n",
        "\n",
        "Selanjutnya, kita akan menambahkan metadata lain seperti aktor/aktris yang bermain di film tersebut, kita akan menggunakan dataframe lain kemudian akan melakukan join dengan dataframe `movie_rating_df`. \n",
        "\n",
        "Dataset yang akan digunakan adalah **`actor_name.csv`**\n",
        "\n",
        "**Akses dataset:** \n",
        "\n",
        "https://dqlab-dataset.s3-ap-southeast-1.amazonaws.com/actor_name.csv"
      ]
    },
    {
      "cell_type": "code",
      "metadata": {
        "colab": {
          "base_uri": "https://localhost:8080/"
        },
        "id": "fHCLj-NLT1UM",
        "outputId": "eeb167d8-3443-488b-e723-627ead1b2c71"
      },
      "source": [
        "#Simpan actor_name.csv pada variable name_df \n",
        "name_df = pd.read_csv('https://dqlab-dataset.s3-ap-southeast-1.amazonaws.com/actor_name.csv')\n",
        "\n",
        "#Tampilkan 5 baris teratas dari name_df\n",
        "print(name_df.head())\n",
        "\n",
        "#Tampilkan informasi mengenai tipe data dari tiap kolom pada name_df\n",
        "print(name_df.info())"
      ],
      "execution_count": 21,
      "outputs": [
        {
          "output_type": "stream",
          "text": [
            "       nconst  ...                           knownForTitles\n",
            "0   nm1774132  ...  tt0417686,tt1713976,tt1891860,tt0454839\n",
            "1  nm10683464  ...                                tt7718088\n",
            "2   nm1021485  ...                                tt0168790\n",
            "3   nm6940929  ...                                tt4232168\n",
            "4   nm5764974  ...                                tt3014168\n",
            "\n",
            "[5 rows x 6 columns]\n",
            "<class 'pandas.core.frame.DataFrame'>\n",
            "RangeIndex: 1000 entries, 0 to 999\n",
            "Data columns (total 6 columns):\n",
            " #   Column             Non-Null Count  Dtype \n",
            "---  ------             --------------  ----- \n",
            " 0   nconst             1000 non-null   object\n",
            " 1   primaryName        1000 non-null   object\n",
            " 2   birthYear          1000 non-null   object\n",
            " 3   deathYear          1000 non-null   object\n",
            " 4   primaryProfession  891 non-null    object\n",
            " 5   knownForTitles     1000 non-null   object\n",
            "dtypes: object(6)\n",
            "memory usage: 47.0+ KB\n",
            "None\n"
          ],
          "name": "stdout"
        }
      ]
    },
    {
      "cell_type": "markdown",
      "metadata": {
        "id": "Y3coCLMHYxPX"
      },
      "source": [
        "# **Add Directors and Writers Dataframe**\n",
        "Dataframe yang akan ditambahkan selanjutnya adalah dataframe yang berisi directors dan writers dari film.\n",
        "\n",
        "Dataset yang akan digunakan adalah `**directors_writers.csv**`\n",
        "\n",
        "**Akses dataset:**\n",
        "\n",
        "https://dqlab-dataset.s3-ap-southeast-1.amazonaws.com/directors_writers.csv"
      ]
    },
    {
      "cell_type": "code",
      "metadata": {
        "colab": {
          "base_uri": "https://localhost:8080/"
        },
        "id": "YYGZ_K_3Y30P",
        "outputId": "e5c484d6-82f0-45b0-f623-fc0540546b03"
      },
      "source": [
        "#Menyimpan dataset pada variabel director_writers\n",
        "director_writers = pd.read_csv('https://dqlab-dataset.s3-ap-southeast-1.amazonaws.com/directors_writers.csv')\n",
        "\n",
        "#Manampilkan 5 baris teratas\n",
        "print(director_writers.head())\n",
        "\n",
        "#Menampilkan informasi tipe data\n",
        "print(director_writers.info())\n"
      ],
      "execution_count": 22,
      "outputs": [
        {
          "output_type": "stream",
          "text": [
            "      tconst  ...                                      writer_name\n",
            "0  tt0011414  ...                          John Emerson,Anita Loos\n",
            "1  tt0011890  ...     Arthur F. Goodrich,Burns Mantle,Mary Murillo\n",
            "2  tt0014341  ...  Jean C. Havez,Clyde Bruckman,Joseph A. Mitchell\n",
            "3  tt0018054  ...                                Jeanie Macpherson\n",
            "4  tt0024151  ...                 Max Miller,Wells Root,Jack Jevne\n",
            "\n",
            "[5 rows x 3 columns]\n",
            "<class 'pandas.core.frame.DataFrame'>\n",
            "RangeIndex: 986 entries, 0 to 985\n",
            "Data columns (total 3 columns):\n",
            " #   Column         Non-Null Count  Dtype \n",
            "---  ------         --------------  ----- \n",
            " 0   tconst         986 non-null    object\n",
            " 1   director_name  986 non-null    object\n",
            " 2   writer_name    986 non-null    object\n",
            "dtypes: object(3)\n",
            "memory usage: 23.2+ KB\n",
            "None\n"
          ],
          "name": "stdout"
        }
      ]
    },
    {
      "cell_type": "markdown",
      "metadata": {
        "id": "VL9O1wBOY8mw"
      },
      "source": [
        "# **Convert into List**\n",
        "Setelah menampilkan informasi mengenai dataframe `directors_writer`, dapat dilihat bahwa tidak ada nilai *NULL* pada dataset tersebut. Hal selanjutnya yang akan kita lakukan adalah mengubah `director_name` dan `writer_name` dari string menjadi list. Setelah itu, tampilkan 5 baris teratas dari dataframe `director_writers`."
      ]
    },
    {
      "cell_type": "code",
      "metadata": {
        "colab": {
          "base_uri": "https://localhost:8080/"
        },
        "id": "iY-8cXqKZJZ8",
        "outputId": "eedc4ecc-3ea9-4f49-b5a8-2361d30a9f54"
      },
      "source": [
        "import pandas as pd\n",
        "director_writers = pd.read_csv('https://dqlab-dataset.s3-ap-southeast-1.amazonaws.com/directors_writers.csv')\n",
        "\n",
        "#Mengubah director_name menjadi list\n",
        "director_writers['director_name'] = director_writers['director_name'].apply(lambda row: row.split(','))\n",
        "director_writers['writer_name'] = director_writers['writer_name'].apply(lambda row: row.split(','))\n",
        "\n",
        "#Tampilkan 5 data teratas\n",
        "print(director_writers.head())"
      ],
      "execution_count": 23,
      "outputs": [
        {
          "output_type": "stream",
          "text": [
            "      tconst  ...                                        writer_name\n",
            "0  tt0011414  ...                         [John Emerson, Anita Loos]\n",
            "1  tt0011890  ...   [Arthur F. Goodrich, Burns Mantle, Mary Murillo]\n",
            "2  tt0014341  ...  [Jean C. Havez, Clyde Bruckman, Joseph A. Mitc...\n",
            "3  tt0018054  ...                                [Jeanie Macpherson]\n",
            "4  tt0024151  ...               [Max Miller, Wells Root, Jack Jevne]\n",
            "\n",
            "[5 rows x 3 columns]\n"
          ],
          "name": "stdout"
        }
      ]
    },
    {
      "cell_type": "markdown",
      "metadata": {
        "id": "aT6l6vgHZPVW"
      },
      "source": [
        "# **3. Task 2 - Cleaning and Processing Table Cast**\n",
        "Membuang kolom-kolom yang tidak digunakan dan menghapus nilai NULL ."
      ]
    },
    {
      "cell_type": "markdown",
      "metadata": {
        "id": "47G-KIgMZSkB"
      },
      "source": [
        "# **Update `name_df`**\n",
        "Kita hanya akan membutuhkan kolom `nconst`, `primaryName`, dan `knownForTitles` pada `name_df` untuk mencocokkan aktor/aktris ini dengan film yang ada. "
      ]
    },
    {
      "cell_type": "code",
      "metadata": {
        "colab": {
          "base_uri": "https://localhost:8080/"
        },
        "id": "uXI2-fHjZiSC",
        "outputId": "82aaaf1c-fe22-4574-f577-806ff440811d"
      },
      "source": [
        "name_df = pd.read_csv('https://dqlab-dataset.s3-ap-southeast-1.amazonaws.com/actor_name.csv')\n",
        "#Kita hanya akan membutuhkan kolom nconst, primaryName, dan knownForTitles\n",
        "name_df = name_df[['nconst','primaryName','knownForTitles']]\n",
        "\n",
        "#Tampilkan 5 baris teratas dari name_df\n",
        "print(name_df.head())"
      ],
      "execution_count": 24,
      "outputs": [
        {
          "output_type": "stream",
          "text": [
            "       nconst          primaryName                           knownForTitles\n",
            "0   nm1774132    Nathan McLaughlin  tt0417686,tt1713976,tt1891860,tt0454839\n",
            "1  nm10683464        Bridge Andrew                                tt7718088\n",
            "2   nm1021485    Brandon Fransvaag                                tt0168790\n",
            "3   nm6940929   Erwin van der Lely                                tt4232168\n",
            "4   nm5764974  Svetlana Shypitsyna                                tt3014168\n"
          ],
          "name": "stdout"
        }
      ]
    },
    {
      "cell_type": "markdown",
      "metadata": {
        "id": "4cYT6dJsZfpU"
      },
      "source": [
        "# **Movies per Actor**\n",
        "Hal selanjutnya yang ingin kita ketahui adalah mengenai variasi dari jumlah film yang dapat dibintangi oleh seorang aktor.\n",
        "\n",
        "Tentunya seorang aktor dapat membintangi lebih dari 1 film, bukan? maka akan diperlukan untuk membuat table yang mempunyai relasi 1-1 ke masing-masing title movie tersebut. Kita akan melakukan unnest terhadap table tersebut. \n",
        "\n",
        "Pekerjaan selanjutnya yang harus kita lakukan adalah:\n",
        "* Melakukan pengecekan variasi jumlah film yang dibintangi oleh aktor. \n",
        "* Mengubah kolom `knownForTitles` menjadi list of list."
      ]
    },
    {
      "cell_type": "code",
      "metadata": {
        "colab": {
          "base_uri": "https://localhost:8080/"
        },
        "id": "XPWFSZzYZv7A",
        "outputId": "9cf6a050-a287-4531-d01f-78810de4ba71"
      },
      "source": [
        "#Melakukan pengecekan variasi\n",
        "print(name_df['knownForTitles'].apply(lambda x: len(x.split(','))).unique())\n",
        "\n",
        "#Mengubah knownForTitles menjadi list of list\n",
        "name_df['knownForTitles'] = name_df['knownForTitles'].apply(lambda x: x.split(','))\n",
        "\n",
        "#Mencetak 5 baris teratas\n",
        "print(name_df.head())"
      ],
      "execution_count": 25,
      "outputs": [
        {
          "output_type": "stream",
          "text": [
            "[4 1 2 3]\n",
            "       nconst  ...                                knownForTitles\n",
            "0   nm1774132  ...  [tt0417686, tt1713976, tt1891860, tt0454839]\n",
            "1  nm10683464  ...                                   [tt7718088]\n",
            "2   nm1021485  ...                                   [tt0168790]\n",
            "3   nm6940929  ...                                   [tt4232168]\n",
            "4   nm5764974  ...                                   [tt3014168]\n",
            "\n",
            "[5 rows x 3 columns]\n"
          ],
          "name": "stdout"
        }
      ]
    },
    {
      "cell_type": "markdown",
      "metadata": {
        "id": "8s44YigzZzMB"
      },
      "source": [
        "# **Korespondensi 1 - 1**\n",
        "Karena pada data sebelumnya dapat dilihat bahwa seorang aktor dapat membintangi 1 sampai 4 film, diperlukan untuk membuat table yang mempunyai relasi 1-1 dari aktor ke masing-masing title movie tersebut. \n",
        "\n",
        "Contoh table yang tidak korespondensi 1-1:\n",
        "\n",
        "![1.png](data:image/png;base64,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)\n",
        "\n",
        "Contoh table korespondensi 1-1:\n",
        "\n",
        "![2.png](data:image/png;base64,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)\n",
        "\n"
      ]
    },
    {
      "cell_type": "code",
      "metadata": {
        "colab": {
          "base_uri": "https://localhost:8080/"
        },
        "id": "XQw9U8VDaNMv",
        "outputId": "243b14ab-4fa5-4183-8105-13c7f2245049"
      },
      "source": [
        "import numpy as np\n",
        "#menyiapkan bucket untuk dataframe\n",
        "df_uni = []\n",
        "\n",
        "for x in ['knownForTitles']:\n",
        "    #mengulang index dari tiap baris sampai tiap elemen dari knownForTitles\n",
        "    idx = name_df.index.repeat(name_df['knownForTitles'].str.len())\n",
        "   \n",
        "   #memecah values dari list di setiap baris dan menggabungkan nya dengan rows lain menjadi dataframe\n",
        "    df1 = pd.DataFrame({\n",
        "        x: np.concatenate(name_df[x].values)\n",
        "    })\n",
        "    \n",
        "    #mengganti index dataframe tersebut dengan idx yang sudah kita define di awal\n",
        "    df1.index = idx\n",
        "    #untuk setiap dataframe yang terbentuk, kita append ke dataframe bucket\n",
        "    df_uni.append(df1)\n",
        "    \n",
        "#menggabungkan semua dataframe menjadi satu\n",
        "df_concat = pd.concat(df_uni, axis=1)\n",
        "\n",
        "#left join dengan value dari dataframe yang awal\n",
        "unnested_df = df_concat.join(name_df.drop(['knownForTitles'], 1), how='left')\n",
        "\n",
        "#select kolom sesuai dengan dataframe awal\n",
        "unnested_df = unnested_df[name_df.columns.tolist()]\n",
        "print(unnested_df)"
      ],
      "execution_count": 26,
      "outputs": [
        {
          "output_type": "stream",
          "text": [
            "         nconst        primaryName knownForTitles\n",
            "0     nm1774132  Nathan McLaughlin      tt0417686\n",
            "0     nm1774132  Nathan McLaughlin      tt1713976\n",
            "0     nm1774132  Nathan McLaughlin      tt1891860\n",
            "0     nm1774132  Nathan McLaughlin      tt0454839\n",
            "1    nm10683464      Bridge Andrew      tt7718088\n",
            "..          ...                ...            ...\n",
            "998   nm5245804      Eliza Jenkins      tt1464058\n",
            "999   nm0948460         Greg Yolen      tt0436869\n",
            "999   nm0948460         Greg Yolen      tt0476663\n",
            "999   nm0948460         Greg Yolen      tt0109723\n",
            "999   nm0948460         Greg Yolen      tt0364484\n",
            "\n",
            "[1918 rows x 3 columns]\n"
          ],
          "name": "stdout"
        }
      ]
    },
    {
      "cell_type": "markdown",
      "metadata": {
        "id": "fuuuHPZdaSh7"
      },
      "source": [
        "# **4. Task 3 - Nesting primaryName group by knownForTitles**\n",
        "Melakukan grouping kembali pada kolom player karena yang kita inginkan adalah level movie untuk melakukan movie recommendation."
      ]
    },
    {
      "cell_type": "markdown",
      "metadata": {
        "id": "YX_ww2K9aW2f"
      },
      "source": [
        "# **Mengelompokkan `primaryName` menjadi list group by `knownForTitles`**\n",
        "Selanjutnya, kita akan melakukan grouping kembali pada kolom player karena yang kita inginkan adalah level movie untuk melakukan movie recommendation."
      ]
    },
    {
      "cell_type": "code",
      "metadata": {
        "colab": {
          "base_uri": "https://localhost:8080/"
        },
        "id": "hroO9C1EahEM",
        "outputId": "ca64249e-6a20-45ce-b6d1-b0325a504b82"
      },
      "source": [
        "unnested_drop = unnested_df.drop(['nconst'], axis=1)\n",
        "\n",
        "#menyiapkan bucket untuk dataframe\n",
        "df_uni = []\n",
        "\n",
        "for col in ['primaryName']:\n",
        "    #agregasi kolom PrimaryName sesuai group_col yang sudah di define di atas\n",
        "    dfi = unnested_drop.groupby(['knownForTitles'])[col].apply(list)\n",
        "    #Lakukan append\n",
        "    df_uni.append(dfi)\n",
        "df_grouped = pd.concat(df_uni, axis=1).reset_index()\n",
        "df_grouped.columns = ['knownForTitles','cast_name']\n",
        "print(df_grouped)"
      ],
      "execution_count": 27,
      "outputs": [
        {
          "output_type": "stream",
          "text": [
            "     knownForTitles           cast_name\n",
            "0         tt0008125    [Charles Harley]\n",
            "1         tt0009706    [Charles Harley]\n",
            "2         tt0010304  [Natalie Talmadge]\n",
            "3         tt0011414  [Natalie Talmadge]\n",
            "4         tt0011890  [Natalie Talmadge]\n",
            "...             ...                 ...\n",
            "1893      tt9610496  [Stefano Baffetti]\n",
            "1894      tt9714030        [Kevin Kain]\n",
            "1895      tt9741820   [Caroline Plyler]\n",
            "1896      tt9759814     [Ethan Francis]\n",
            "1897      tt9856236     [Nuala Maguire]\n",
            "\n",
            "[1898 rows x 2 columns]\n"
          ],
          "name": "stdout"
        }
      ]
    },
    {
      "cell_type": "markdown",
      "metadata": {
        "id": "8fUUNQKBaxSH"
      },
      "source": [
        "# **5. Task 4 - Joining with Movie Table**"
      ]
    },
    {
      "cell_type": "markdown",
      "metadata": {
        "id": "FmwlUHIZa1cP"
      },
      "source": [
        "# **Join table**\n",
        "Sekarang kita akan melakukan :\n",
        "\n",
        "* join antara **movie table** dan **cast table**  (field `knownForTitles` dan `tconst`)\n",
        "* join antara `base_df` dengan `director_writer` table (field `tconst` dan `tconst`)"
      ]
    },
    {
      "cell_type": "code",
      "metadata": {
        "colab": {
          "base_uri": "https://localhost:8080/"
        },
        "id": "Ry07kV36bNyR",
        "outputId": "e8ff843c-a712-42a4-d522-9048aa05496c"
      },
      "source": [
        "movie_rating_df = pd.read_csv('https://dqlab-dataset.s3-ap-southeast-1.amazonaws.com/movie_rating_df.csv')\n",
        "\n",
        "#join antara movie table dan cast table \n",
        "base_df = pd.merge(df_grouped, movie_rating_df, left_on='knownForTitles', right_on='tconst', how='inner')\n",
        "\n",
        "#join antara base_df dengan director_writer table\n",
        "base_df = pd.merge(base_df, director_writers, left_on='tconst', right_on='tconst', how='left')\n",
        "print(base_df.head())"
      ],
      "execution_count": 28,
      "outputs": [
        {
          "output_type": "stream",
          "text": [
            "  knownForTitles  ...                                        writer_name\n",
            "0      tt0011414  ...                         [John Emerson, Anita Loos]\n",
            "1      tt0011890  ...   [Arthur F. Goodrich, Burns Mantle, Mary Murillo]\n",
            "2      tt0014341  ...  [Jean C. Havez, Clyde Bruckman, Joseph A. Mitc...\n",
            "3      tt0018054  ...                                [Jeanie Macpherson]\n",
            "4      tt0024151  ...               [Max Miller, Wells Root, Jack Jevne]\n",
            "\n",
            "[5 rows x 15 columns]\n"
          ],
          "name": "stdout"
        }
      ]
    },
    {
      "cell_type": "markdown",
      "metadata": {
        "id": "vISlUaGZbTZf"
      },
      "source": [
        "# **Cleaning data**\n",
        "Setelah melakukan join table sebelumnya, sekarang hal yang akan kembali kita lakukan adalah melakukan cleaning pada data yang sudah dihasilkan. "
      ]
    },
    {
      "cell_type": "code",
      "metadata": {
        "colab": {
          "base_uri": "https://localhost:8080/"
        },
        "id": "UhaqXmjEbVEN",
        "outputId": "e6476f76-f50b-45fd-edc7-60e057c4677d"
      },
      "source": [
        "#Melakukan drop terhadap kolom knownForTitles\n",
        "base_drop = base_df.drop(['knownForTitles'], axis=1)\n",
        "print(base_drop.info())\n",
        "\n",
        "#Mengganti nilai NULL pada kolom genres dengan 'Unknown'\n",
        "base_drop['genres'] = base_drop['genres'].fillna('Unknown')\n",
        "\n",
        "#Melakukan perhitungan jumlah nilai NULL pada tiap kolom\n",
        "print(base_drop.isnull().sum())\n",
        "\n",
        "#Mengganti nilai NULL pada kolom dorector_name dan writer_name dengan 'Unknown'\n",
        "base_drop[['director_name','writer_name']] = base_drop[['director_name','writer_name']].fillna('unknown')\n",
        "\n",
        "#karena value kolom genres terdapat multiple values, jadi kita akan bungkus menjadi list of list\n",
        "base_drop['genres'] = base_drop['genres'].apply(lambda x: x.split(','))"
      ],
      "execution_count": 29,
      "outputs": [
        {
          "output_type": "stream",
          "text": [
            "<class 'pandas.core.frame.DataFrame'>\n",
            "Int64Index: 1060 entries, 0 to 1059\n",
            "Data columns (total 14 columns):\n",
            " #   Column          Non-Null Count  Dtype  \n",
            "---  ------          --------------  -----  \n",
            " 0   cast_name       1060 non-null   object \n",
            " 1   tconst          1060 non-null   object \n",
            " 2   titleType       1060 non-null   object \n",
            " 3   primaryTitle    1060 non-null   object \n",
            " 4   originalTitle   1060 non-null   object \n",
            " 5   isAdult         1060 non-null   int64  \n",
            " 6   startYear       1060 non-null   float64\n",
            " 7   endYear         110 non-null    float64\n",
            " 8   runtimeMinutes  1060 non-null   float64\n",
            " 9   genres          745 non-null    object \n",
            " 10  averageRating   1060 non-null   float64\n",
            " 11  numVotes        1060 non-null   int64  \n",
            " 12  director_name   986 non-null    object \n",
            " 13  writer_name     986 non-null    object \n",
            "dtypes: float64(4), int64(2), object(8)\n",
            "memory usage: 124.2+ KB\n",
            "None\n",
            "cast_name           0\n",
            "tconst              0\n",
            "titleType           0\n",
            "primaryTitle        0\n",
            "originalTitle       0\n",
            "isAdult             0\n",
            "startYear           0\n",
            "endYear           950\n",
            "runtimeMinutes      0\n",
            "genres              0\n",
            "averageRating       0\n",
            "numVotes            0\n",
            "director_name      74\n",
            "writer_name        74\n",
            "dtype: int64\n"
          ],
          "name": "stdout"
        }
      ]
    },
    {
      "cell_type": "markdown",
      "metadata": {
        "id": "XYavIcoxbaIn"
      },
      "source": [
        "# **Reformat table `base_df`**\n",
        "Hal selanjutnya yang akan kita lakukan adalah melakukan reformat pada table `base_df` yang beberapa kolomnya sudah didrop."
      ]
    },
    {
      "cell_type": "code",
      "metadata": {
        "colab": {
          "base_uri": "https://localhost:8080/"
        },
        "id": "ZMwtgY6wbgWF",
        "outputId": "a319d788-fa4a-498b-9494-095bcd6504f2"
      },
      "source": [
        "#Drop kolom tconst, isAdult, endYear, originalTitle\n",
        "base_drop2 = base_drop.drop(['tconst','isAdult','endYear','originalTitle'], axis=1)\n",
        "\n",
        "base_drop2 = base_drop2[['primaryTitle','titleType','startYear','runtimeMinutes','genres','averageRating','numVotes','cast_name','director_name','writer_name']]\n",
        "\n",
        "\n",
        "base_drop2.columns = ['title','type','start','duration','genres','rating','votes','cast_name','director_name','writer_name']\n",
        "print(base_drop2.head())"
      ],
      "execution_count": 30,
      "outputs": [
        {
          "output_type": "stream",
          "text": [
            "                    title  ...                                        writer_name\n",
            "0         The Love Expert  ...                         [John Emerson, Anita Loos]\n",
            "1               Yes or No  ...   [Arthur F. Goodrich, Burns Mantle, Mary Murillo]\n",
            "2         Our Hospitality  ...  [Jean C. Havez, Clyde Bruckman, Joseph A. Mitc...\n",
            "3       The King of Kings  ...                                [Jeanie Macpherson]\n",
            "4  I Cover the Waterfront  ...               [Max Miller, Wells Root, Jack Jevne]\n",
            "\n",
            "[5 rows x 10 columns]\n"
          ],
          "name": "stdout"
        }
      ]
    },
    {
      "cell_type": "markdown",
      "metadata": {
        "id": "z61gkCEsbloc"
      },
      "source": [
        "# **6. Task 5 - Creating Content-based Recommender System**"
      ]
    },
    {
      "cell_type": "markdown",
      "metadata": {
        "id": "hfp-yA6Jborb"
      },
      "source": [
        "# **Klasifikasi Metadata**\n",
        "kita akan klasifikasikan berdasarkan metadata genres, `primaryName` (cast name), `director name`, dan `writer_name`."
      ]
    },
    {
      "cell_type": "code",
      "metadata": {
        "colab": {
          "base_uri": "https://localhost:8080/"
        },
        "id": "DNtk9xSGbwvQ",
        "outputId": "108289f0-cab8-4eb4-8dee-2a36580a7fdd"
      },
      "source": [
        "#Klasifikasi berdasar title, cast_name, genres, director_name, dan writer_name\n",
        "feature_df = base_drop2[['title','cast_name','genres','director_name','writer_name']]\n",
        "\n",
        "#Tampilkan 5 baris teratas\n",
        "print(feature_df.head())"
      ],
      "execution_count": 31,
      "outputs": [
        {
          "output_type": "stream",
          "text": [
            "                    title  ...                                        writer_name\n",
            "0         The Love Expert  ...                         [John Emerson, Anita Loos]\n",
            "1               Yes or No  ...   [Arthur F. Goodrich, Burns Mantle, Mary Murillo]\n",
            "2         Our Hospitality  ...  [Jean C. Havez, Clyde Bruckman, Joseph A. Mitc...\n",
            "3       The King of Kings  ...                                [Jeanie Macpherson]\n",
            "4  I Cover the Waterfront  ...               [Max Miller, Wells Root, Jack Jevne]\n",
            "\n",
            "[5 rows x 5 columns]\n"
          ],
          "name": "stdout"
        }
      ]
    },
    {
      "cell_type": "markdown",
      "metadata": {
        "id": "xNanXFF6b1Ah"
      },
      "source": [
        "# **Pertanyaan 1: Bagaimana cara membuat fungsi untuk strip spaces dari setiap row dan setiap elemennya?**\n",
        "Lengkapilah *function sanitize* yang digunakan untuk melakukan *strip spaces* dari setiap row dan setiap elemennya."
      ]
    },
    {
      "cell_type": "code",
      "metadata": {
        "colab": {
          "base_uri": "https://localhost:8080/"
        },
        "id": "7_99Sqgyb-ec",
        "outputId": "bf890d4e-9912-4522-acf3-e0372b572bb9"
      },
      "source": [
        "def sanitize(x):\n",
        "    try:\n",
        "        #kalau cell berisi list\n",
        "        if isinstance(x,list):\n",
        "            return [i.replace(' ','').lower() for i in x]\n",
        "        #kalau cell berisi string\n",
        "        else:\n",
        "            return [x.replace(' ','').lower()]\n",
        "    except:\n",
        "        print(x)\n",
        "        \n",
        "#Kolom : cast_name, genres, writer_name, director_name        \n",
        "feature_cols = ['cast_name','genres','writer_name','director_name']\n",
        "\n",
        "#Apply function sanitize \n",
        "for col in feature_cols:\n",
        "    feature_df[col] = feature_df[col].apply(sanitize)"
      ],
      "execution_count": 32,
      "outputs": [
        {
          "output_type": "stream",
          "text": [
            "/usr/local/lib/python3.6/dist-packages/ipykernel_launcher.py:17: SettingWithCopyWarning: \n",
            "A value is trying to be set on a copy of a slice from a DataFrame.\n",
            "Try using .loc[row_indexer,col_indexer] = value instead\n",
            "\n",
            "See the caveats in the documentation: https://pandas.pydata.org/pandas-docs/stable/user_guide/indexing.html#returning-a-view-versus-a-copy\n"
          ],
          "name": "stderr"
        }
      ]
    },
    {
      "cell_type": "markdown",
      "metadata": {
        "id": "vuCid6TCcDpU"
      },
      "source": [
        "# **Pertanyaan 2: Bagaimana cara membuat fungsi untuk membuat metadata soup (menggabungkan semua feature menjadi 1 bagian kalimat) untuk setiap judulnya?**\n",
        "Lengkapi function `soup_feature` yang digunakan untuk menggabungkan semua feature  menjadi satu bagian."
      ]
    },
    {
      "cell_type": "code",
      "metadata": {
        "colab": {
          "base_uri": "https://localhost:8080/"
        },
        "id": "vxPzrs8ucIkv",
        "outputId": "30cd72ae-4b69-4670-d064-1041265d3563"
      },
      "source": [
        "#kolom yang digunakan : cast_name, genres, director_name, writer_name\n",
        "def soup_feature(x):\n",
        "    return ' '.join(x['cast_name']) + ' ' + ' '.join(x['genres']) + ' ' + ' '.join(x['director_name']) + ' ' + ' '.join(x['writer_name'])\n",
        "\n",
        "#membuat soup menjadi 1 kolom \n",
        "feature_df['soup'] = feature_df.apply(soup_feature, axis=1)\n",
        "    \n",
        "    "
      ],
      "execution_count": 33,
      "outputs": [
        {
          "output_type": "stream",
          "text": [
            "/usr/local/lib/python3.6/dist-packages/ipykernel_launcher.py:6: SettingWithCopyWarning: \n",
            "A value is trying to be set on a copy of a slice from a DataFrame.\n",
            "Try using .loc[row_indexer,col_indexer] = value instead\n",
            "\n",
            "See the caveats in the documentation: https://pandas.pydata.org/pandas-docs/stable/user_guide/indexing.html#returning-a-view-versus-a-copy\n",
            "  \n"
          ],
          "name": "stderr"
        }
      ]
    },
    {
      "cell_type": "markdown",
      "metadata": {
        "id": "tHD--RvAcM2o"
      },
      "source": [
        "# **Pertanyaan 3: Cara menyiapkan CountVectorizer (stop_words = english) dan fit dengan soup yang kita buat di atas**\n",
        "***CountVectorizer*** adalah tipe paling sederhana dari vectorizer. Supaya lebih mudah akan dijelaskan melalui contoh di bawah ini:\n",
        "\n",
        "Bayangkan terdapat 3 text A, B, dan C, dimana text nya adalah\n",
        "\n",
        "* A: The Sun is a star\n",
        "* B: My Love is like a red, red rose\n",
        "* C: Mary had a little lamb\n",
        "\n",
        "Sekarang kita harus konversi text-text ini menjadi bentuk vector menggunakan CountVectorizer. Langkah-langkahnya adalah: menghitung ukuran dari vocabulary. Vocabulary adalah jumlah dari kata unik yang ada dari text tersebut.\n",
        "\n",
        "Oleh sebab itu, vocabulary dari set ketiga text tersebut adalah: the, sun, is, a, star, my, love, like, red, rose, mary, had, little, lamb. Secara total, ukuran vocabulary adalah 14.\n",
        "\n",
        "Tetapi, biasanya kita tidak include stop words (english), seperti as, is, a, the, dan sebagainya karena itu adalah kata yang sudah common sekali.\n",
        "\n",
        "Dengan mengeliminasi stop words, maka clean size vocabulary kita adalah like, little, lamb, love, mary, red, rose, sun, star (sorted alphabet ascending)\n",
        "Maka, dengan menggunakan CountVectorizer, maka hasil yang kita dapatkan adalah sebagai berikut:\n",
        "\n",
        "* A : (0,0,0,0,0,0,0,1,1), terdiri atas sun:1, star:1\n",
        "* B : (1,0,0,1,0,2,1,0,0), terdiri atas like:1, love:1, red:2, rose:1\n",
        "* C : (0,1,1,0,1,0,0,0,0), terdiri atas little:1, lamb:1, mary:1"
      ]
    },
    {
      "cell_type": "code",
      "metadata": {
        "colab": {
          "base_uri": "https://localhost:8080/"
        },
        "id": "FLjjmGEfcne_",
        "outputId": "adab5cb6-cf6d-4564-bf71-a4ec347614d8"
      },
      "source": [
        "#import CountVectorizer \n",
        "from sklearn.feature_extraction.text import CountVectorizer\n",
        "\n",
        "#definisikan CountVectorizer dan mengubah soup tadi menjadi bentuk vector\n",
        "count = CountVectorizer(stop_words='english')\n",
        "count_matrix = count.fit_transform(feature_df['soup'])\n",
        "\n",
        "print(count)\n",
        "print(count_matrix.shape)"
      ],
      "execution_count": 34,
      "outputs": [
        {
          "output_type": "stream",
          "text": [
            "CountVectorizer(analyzer='word', binary=False, decode_error='strict',\n",
            "                dtype=<class 'numpy.int64'>, encoding='utf-8', input='content',\n",
            "                lowercase=True, max_df=1.0, max_features=None, min_df=1,\n",
            "                ngram_range=(1, 1), preprocessor=None, stop_words='english',\n",
            "                strip_accents=None, token_pattern='(?u)\\\\b\\\\w\\\\w+\\\\b',\n",
            "                tokenizer=None, vocabulary=None)\n",
            "(1060, 10026)\n"
          ],
          "name": "stdout"
        }
      ]
    },
    {
      "cell_type": "markdown",
      "metadata": {
        "id": "W8EA6V71cqTc"
      },
      "source": [
        "# **Pertanyaan 4: Cara membuat model similarity antara count matrix**\n",
        "Pada langkah ini, kita akan menghitung score cosine similarity dari setiap pasangan judul (berdasarkan semua kombinasi pasangan yang ada, dengan kata lain kita akan membuat 675 x 675 matrix, dimana cell di kolom i dan j menunjukkan score similarity antara judul i dan j. kita dapat dengan mudah melihat bahwa matrix ini simetris dan setiap elemen pada diagonal adalah 1, karena itu adalah similarity score dengan dirinya sendiri.\n",
        " \n",
        "**Cosine Similarity**\n",
        "Pada bagian ini, kita akan menggunakan formula cosine similarity untuk membuat model. Score cosine ini sangatlah berguna dan mudah untuk dihitung.\n",
        "\n",
        "Formula untuk perhitungan cosine similarity antara 2 text, adalah sebagai berikut:\n",
        "\n",
        "\n",
        "$cosine(x,y)=\\frac{x.y^T}{||x||.||y||}$\n",
        "\n",
        "output yang didapat antara range -1 sampai 1. Score yang hampir mencapai 1 artinya kedua entitas tersebut sangatlah mirip sedangkan score yang hampir mencapai -1 artinya kedua entitas tersebut adalah beda."
      ]
    },
    {
      "cell_type": "code",
      "metadata": {
        "colab": {
          "base_uri": "https://localhost:8080/"
        },
        "id": "pjVpOMYfdSDM",
        "outputId": "e5dfbdbf-f156-4973-9f91-8e382114f112"
      },
      "source": [
        "#Import cosine_similarity\n",
        "from sklearn.metrics.pairwise import cosine_similarity\n",
        "\n",
        "#Gunakan cosine_similarity antara count_matrix \n",
        "cosine_sim = cosine_similarity(count_matrix, count_matrix)\n",
        "\n",
        "#print hasilnya\n",
        "print(cosine_sim)"
      ],
      "execution_count": 35,
      "outputs": [
        {
          "output_type": "stream",
          "text": [
            "[[1.         0.15430335 0.35355339 ... 0.         0.         0.13608276]\n",
            " [0.15430335 1.         0.10910895 ... 0.         0.         0.        ]\n",
            " [0.35355339 0.10910895 1.         ... 0.         0.08703883 0.09622504]\n",
            " ...\n",
            " [0.         0.         0.         ... 1.         0.         0.        ]\n",
            " [0.         0.         0.08703883 ... 0.         1.         0.10050378]\n",
            " [0.13608276 0.         0.09622504 ... 0.         0.10050378 1.        ]]\n"
          ],
          "name": "stdout"
        }
      ]
    },
    {
      "cell_type": "markdown",
      "metadata": {
        "id": "y1-EKmOSdXAE"
      },
      "source": [
        "# **Pertanyaan 5: Cara membuat content based recommender system**\n",
        "Task selanjutnya yang harus dilakukan adalah reverse mapping dengan judul sebagai indexnya."
      ]
    },
    {
      "cell_type": "code",
      "metadata": {
        "colab": {
          "base_uri": "https://localhost:8080/"
        },
        "id": "Ukd81kGDdZ8d",
        "outputId": "24de71f7-79c1-4eb9-8af3-ab5c28d88c16"
      },
      "source": [
        "indices = pd.Series(feature_df.index, index=feature_df['title']).drop_duplicates()\n",
        "\n",
        "def content_recommender(title):\n",
        "    #mendapatkan index dari judul film (title) yang disebutkan\n",
        "    idx = indices[title]\n",
        "\n",
        "    #menjadikan list dari array similarity cosine sim \n",
        "    #hint: cosine_sim[idx]\n",
        "    sim_scores = list(enumerate(cosine_sim[idx]))\n",
        "\n",
        "    #mengurutkan film dari similarity tertinggi ke terendah\n",
        "    sim_scores = sorted(sim_scores,key=lambda x: x[1],reverse=True)\n",
        "\n",
        "    #untuk mendapatkan list judul dari item kedua sampe ke 11\n",
        "    sim_scores = sim_scores[1:11]\n",
        "\n",
        "    #mendapatkan index dari judul-judul yang muncul di sim_scores\n",
        "    movie_indices = [i[0] for i in sim_scores]\n",
        "\n",
        "    #dengan menggunakan iloc, kita bisa panggil balik berdasarkan index dari movie_indices\n",
        "    return base_df.iloc[movie_indices]\n",
        "\n",
        "#aplikasikan function di atas\n",
        "print(content_recommender('The Lion King'))"
      ],
      "execution_count": 36,
      "outputs": [
        {
          "output_type": "stream",
          "text": [
            "     knownForTitles  ...                                        writer_name\n",
            "848       tt3040964  ...                    [Justin Marks, Rudyard Kipling]\n",
            "383       tt0286336  ...  [Valerie Georgeson, Colin Dann, Jenny McDade, ...\n",
            "1002      tt7222086  ...  [Akihito Tsukushi, Keigo Koyanagi, Hideyuki Ku...\n",
            "73        tt0075147  ...                                    [James Goldman]\n",
            "232       tt0119051  ...                                      [David Mamet]\n",
            "556      tt10068158  ...                                 [Akihito Tsukushi]\n",
            "9         tt0028657  ...                    [Frances Guihan, Forrest Brown]\n",
            "191       tt0107875  ...                    [Robin Lyons, George MacDonald]\n",
            "803       tt2356464  ...         [Kristina Magdalena Henn, Lea Schmidbauer]\n",
            "983       tt6270328  ...  [David Witt, John Derevlany, David Evans, Pete...\n",
            "\n",
            "[10 rows x 15 columns]\n"
          ],
          "name": "stdout"
        }
      ]
    }
  ]
}