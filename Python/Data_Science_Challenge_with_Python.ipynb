{
  "nbformat": 4,
  "nbformat_minor": 0,
  "metadata": {
    "colab": {
      "name": "Data Science Challenge with Python.ipynb",
      "provenance": [],
      "collapsed_sections": []
    },
    "kernelspec": {
      "name": "python3",
      "display_name": "Python 3"
    }
  },
  "cells": [
    {
      "cell_type": "markdown",
      "metadata": {
        "id": "HP7RNNpYAmj9"
      },
      "source": [
        "# **Project Kerjasama DQLab dengan CT Corp**\n",
        "\n",
        "CT Corp adalah konglomerat konsumen terbesar dan berkembang pesat di Indonesia dengan bisnis utama di perbankan, jasa keuangan, media, gaya hidup, hiburan, sumber daya alam, dan F&B. \n",
        "\n",
        "CT Corp telah mendirikan perusahaan yang kuat di pasar konsumen seperti: Bank Mega, Bank Mega Syariah, Mega Life, DetikNetwork, TRANSMEDIA (Trans TV, Trans 7, TV CNN Indonesia, CNNIndonesia.com, CNBC TV, (CNBCIndonesia.com), Trans Fashion, Transmart (Carrefour), and F&B (Baskin Robins, Coffee Bean, Wendy’s)."
      ]
    },
    {
      "cell_type": "markdown",
      "metadata": {
        "id": "8xjsy_UeA2T1"
      },
      "source": [
        "# **Apa saja yang dibahas dalam project ini?**\n",
        "\n",
        "Project ini berupa tes terkait kemampuan *data science* yang terdiri atas empat tes, yaitu:\n",
        "\n",
        "1. **Tes Probabilitas**, yang dirancang untuk memperlihatkan kemampuan member dalam mengkoseptualisasikan pengetahuan dalam bidang probabilitas.\n",
        "2. **Tes Statistik**, yang dirancang untuk memperlihatkan pengetahuan member terkait dasar-dasar ilmu statistik.\n",
        "3. **Tes Interpretasi Model**, yang dirancang untuk memperlihatkan kemampuan member dalam memberikan insight/kesimpulan dan pengambilan keputusan pendukung terkait dengan model yang dibangun melalui penerapan data science.\n",
        "4. **Tes Pemrograman**, yang dirancang untuk memperlihatkan kemampuan member dalam menrepakan logical thinking (berfikir logis) melalui kode-kode program yang ditanyakan. Bahasa pemrograman yang digunakan adalah Python."
      ]
    },
    {
      "cell_type": "markdown",
      "metadata": {
        "id": "En_O69wfBlI3"
      },
      "source": [
        "# **Kompetisi Rugby**\n",
        "\n",
        "Terdapat 23 tim rugby yang sedang bermain dalam sebuah turnamen. Berapakah banyaknya pertandingan yang harus dimainkan agar diketahui siapa pemenangnya? \n",
        "\n",
        "* 11\n",
        "* 12\n",
        "* **22**\n",
        "* 23"
      ]
    },
    {
      "cell_type": "markdown",
      "metadata": {
        "id": "4Tfe7H5mB9w9"
      },
      "source": [
        "# **Bintang Berekor**\n",
        "\n",
        "Setiap interval 15 menit, terdapat 20% probabilitas bahwa Anda dapat melihat satu bintang berekor. Berapakah probabilitasnya Anda dapat melihat setidaknya satu bintang berekor tiap satu jam?\n",
        "\n",
        "* **0.5904**\n",
        "* 0.4096\n",
        "* 0.8\n",
        "* 0.2"
      ]
    },
    {
      "cell_type": "markdown",
      "metadata": {
        "id": "UiaW8WaCCLhe"
      },
      "source": [
        "# **Statistik Deskriptif**\n",
        "\n",
        "Manakah pernyataan yang benar dari pilihan di bawah ini?\n",
        "\n",
        "* Rata-rata adalah ukuran tendensi pusat suatu data\n",
        "* Rata-rata empiris berhubungan dengan pemusatan variabel acak\n",
        "* Standar deviasi empiris mengukur besarnya sebaran data\n",
        "* **Semua benar**"
      ]
    },
    {
      "cell_type": "markdown",
      "metadata": {
        "id": "1ci0sUlsCWeG"
      },
      "source": [
        "# **Algoritma mana ya?**\n",
        "\n",
        "Setelah mengkaji perilaku sebuah populasi, Anda telah mengidentifikasi empat jenis individu spesifik yang bernilai pada kajian Anda. Anda akan menentukan semua pengguna yang paling serupa untuk setiap jenis individu itu. Algoritma manakah yang paling cocok untuk kajian ini?\n",
        "\n",
        "Pilihlah satu jawaban yang benar.\n",
        "\n",
        "* **K-means clustering**\n",
        "* Linear regression\n",
        "* Association rules\n",
        "* Decision trees"
      ]
    },
    {
      "cell_type": "markdown",
      "metadata": {
        "id": "fW9V6Z-YCkyA"
      },
      "source": [
        "# **Regresi Linier**\n",
        "\n",
        "Dengan menambahkan fitur yang tidak penting ke model regresi yang telah dibuat akan menghasilkan \n",
        "\n",
        "**1. Kenaikan nilai R-square**\n",
        "\n",
        "**2. Penurunan nilai R-square**\n",
        "\n",
        "Manakah pernyataan 1 atau 2 yang benar?\n",
        "\n",
        "* **Hanya 1 yang benar**\n",
        "* Hanya 2 yang benar\n",
        "* Keduanya benar\n",
        "* Keduanya tidak benar"
      ]
    },
    {
      "cell_type": "markdown",
      "metadata": {
        "id": "uW_n1t6rC6ty"
      },
      "source": [
        "# **Boosting!**\n",
        "\n",
        "Manakah yang termasuk dari algoritma berikut yang merupakan sub-kelas largest boost dalam keluarga algoritma boosting?\n",
        "\n",
        "* variance boosting\n",
        "* **gradient boosting**\n",
        "* mean boosting\n",
        "* Semuanya"
      ]
    },
    {
      "cell_type": "markdown",
      "metadata": {
        "id": "BuPn-O6BDJXi"
      },
      "source": [
        "# **Cross-validation**\n",
        "\n",
        "Untuk *k cross-validation*, semakin besar nilai *k* menghasilkan bias yang lebih besar juga.\n",
        "\n",
        "Benar atau salahkah pernyataan di atas?\n",
        "\n",
        "* **Benar**\n",
        "* Salah"
      ]
    },
    {
      "cell_type": "markdown",
      "metadata": {
        "id": "ke19OjGIDSXj"
      },
      "source": [
        "# **Binary Classification**\n",
        "\n",
        "Jika Anda bekerja pada suatu proyek yang menggunakan permasalahan *binary classification.* Kemudian, Anda mentraining sebuah model pada training dataset dan kemudian memperoleh confusion matrix setelah menerapkannya pada *validation dataset*, berikut ini\n",
        "\n",
        "![download.png](data:image/png;base64,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)\n",
        "\n",
        "Berdasarkan pada confusion matrix tersebut, pilihlah jawaban berikut ini mana yang memberikan prediksi yang benar?\n",
        "\n",
        "1. *Accuracy* adalah ~0.91\n",
        "2. *Misclassification rate* adalah ~ 0.91\n",
        "3. *False-positive rate* adalah ~0.95\n",
        "4. *True positive rate* adalah ~0.95\n",
        "\n",
        "* 1 dan 3\n",
        "* 2 dan 4\n",
        "* **1 dan 4**\n",
        "* 2 dan 3\n"
      ]
    },
    {
      "cell_type": "markdown",
      "metadata": {
        "id": "DImEbm30EbTa"
      },
      "source": [
        "# **Dict data type!**\n",
        "'\n",
        "Tuliskanlah kode python di code editor yang akan menyatukan tiga dictionary berikut \n",
        "\n",
        "* dic1 = {1:10, 2:20}\n",
        "* dic2 = {3:30, 4:40}\n",
        "* dic3 = {5:50, 6:60}\n",
        "\n",
        "menjadi satu dictionary dalam **dic4**\n",
        "\n",
        "Gantilah _ _ _ dengan fungsi/literal/variabel yang sesuai"
      ]
    },
    {
      "cell_type": "code",
      "metadata": {
        "colab": {
          "base_uri": "https://localhost:8080/"
        },
        "id": "fNxkuUZeEtyo",
        "outputId": "52b1953e-6340-476c-dcb9-2957eaa0709e"
      },
      "source": [
        "dic1 = {1:10, 2:20}\n",
        "dic2 = {3:30, 4:40}\n",
        "dic3 = {5:50, 6:60}\n",
        "dic4 = {}\n",
        "for d in (dic1, dic2, dic3): dic4.update(d)\n",
        "print (dic4)"
      ],
      "execution_count": 1,
      "outputs": [
        {
          "output_type": "stream",
          "text": [
            "{1: 10, 2: 20, 3: 30, 4: 40, 5: 50, 6: 60}\n"
          ],
          "name": "stdout"
        }
      ]
    },
    {
      "cell_type": "markdown",
      "metadata": {
        "id": "udeeLsA0E7Fx"
      },
      "source": [
        "# **Jumlah 7 Deret Pertama Fibonacci**\n",
        "\n",
        "Tulislah sebuah fungsi Python yang digunakan untuk menghitung *n* deret pertama *Fibonacci* yang dimulai dari 0.\n",
        "\n",
        "* Input:  n = 7\n",
        "* Output :  33\n",
        "\n",
        "Gantilah _ _ _ dengan fungsi/literal/variabel yang sesuai"
      ]
    },
    {
      "cell_type": "code",
      "metadata": {
        "colab": {
          "base_uri": "https://localhost:8080/"
        },
        "id": "nrmGEwprFNxV",
        "outputId": "b3b0ba99-bf8a-4874-cb40-2b5e0d132e69"
      },
      "source": [
        "def calculateSum(n):\n",
        "\tif n==1:\n",
        "\t\treturn 0\n",
        "\tfibo=[0]*(n+1)\n",
        "\tfibo[1]=1\n",
        "    # Initialisasi hasil ke dalam variabel sm\n",
        "\tsm = fibo[0]+fibo[1]\n",
        "    # Tambahkan suku-suku berikutnya\n",
        "\tfor i in range(2,n+1):\n",
        "\t\tfibo[i]=fibo[i-1]+ fibo[i-2]\n",
        "\t\tsm+=fibo[i]\n",
        "\treturn sm\n",
        "# Evaluasi hasil deret untuk n = 7    \n",
        "print(calculateSum(7))"
      ],
      "execution_count": 2,
      "outputs": [
        {
          "output_type": "stream",
          "text": [
            "33\n"
          ],
          "name": "stdout"
        }
      ]
    },
    {
      "cell_type": "markdown",
      "metadata": {
        "id": "UtgYgnXSFXq8"
      },
      "source": [
        "# **Penutup Project ini.**\n",
        "\n",
        "Selamat! Kamu telah berhasil menyelesaikan project ini.\n",
        "\n",
        "Dengan menyelesaikan project ini, kamu memperlihatkan:\n",
        "\n",
        "* Kemampuan untuk mengkonseptualisasikan pengetahuan dalam bidang probabilitas.\n",
        "* Kemampuan memahami dasar-dasar ilmu statistika.\n",
        "* Kemampuan memberikan insight/kesimpulan dan pengambilan keputusan pendukung terkait model yang dibangun melalui penerapan data science.\n",
        "* Menerapkan *logical thinking* (berpikir logis) lewat kode-kode program yang ditanyakan menggunakan Python.\n",
        " \n",
        "\n",
        "**Semangat selalu untuk terus belajar!**"
      ]
    }
  ]
}