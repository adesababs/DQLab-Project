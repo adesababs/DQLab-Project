{
 "cells": [
  {
   "cell_type": "code",
   "execution_count": 54,
   "metadata": {},
   "outputs": [
    {
     "name": "stdout",
     "output_type": "stream",
     "text": [
      "Collecting package metadata (current_repodata.json): ...working... done\n",
      "Note: you may need to restart the kernel to use updated packages.\n",
      "\n",
      "Solving environment: ...working... done\n",
      "\n",
      "# All requested packages already installed.\n",
      "\n"
     ]
    }
   ],
   "source": [
    "conda install -c conda-forge kmodes"
   ]
  },
  {
   "cell_type": "code",
   "execution_count": null,
   "metadata": {},
   "outputs": [],
   "source": [
    "import pandas as pd  \n",
    "import matplotlib.pyplot as plt  \n",
    "import seaborn as sns  \n",
    "from sklearn.preprocessing import LabelEncoder  \n",
    "  \n",
    "from kmodes.kmodes import KModes  \n",
    "from kmodes.kprototypes import KPrototypes  \n",
    "  \n",
    "import pickle  \n",
    "from pathlib import Path  "
   ]
  },
  {
   "cell_type": "code",
   "execution_count": 56,
   "metadata": {},
   "outputs": [
    {
     "name": "stdout",
     "output_type": "stream",
     "text": [
      "  Customer_ID       Nama Pelanggan Jenis Kelamin  Umur       Profesi  \\\n",
      "0    CUST-001         Budi Anggara          Pria    58    Wiraswasta   \n",
      "1    CUST-002     Shirley Ratuwati        Wanita    14       Pelajar   \n",
      "2    CUST-003         Agus Cahyono          Pria    48  Professional   \n",
      "3    CUST-004     Antonius Winarta          Pria    53  Professional   \n",
      "4    CUST-005  Ibu Sri Wahyuni, IR        Wanita    41    Wiraswasta   \n",
      "\n",
      "  Tipe Residen  NilaiBelanjaSetahun  \n",
      "0       Sector              9497927  \n",
      "1      Cluster              2722700  \n",
      "2      Cluster              5286429  \n",
      "3      Cluster              5204498  \n",
      "4      Cluster             10615206  \n"
     ]
    }
   ],
   "source": [
    "# import dataset  \n",
    "df = pd.read_csv(\"https://dqlab-dataset.s3-ap-southeast-1.amazonaws.com/customer_segments.txt\", sep=\"\\t\")  \n",
    "  \n",
    "# menampilkan data  \n",
    "print (df.head())"
   ]
  },
  {
   "cell_type": "code",
   "execution_count": 57,
   "metadata": {},
   "outputs": [
    {
     "name": "stdout",
     "output_type": "stream",
     "text": [
      "<class 'pandas.core.frame.DataFrame'>\n",
      "RangeIndex: 50 entries, 0 to 49\n",
      "Data columns (total 7 columns):\n",
      " #   Column               Non-Null Count  Dtype \n",
      "---  ------               --------------  ----- \n",
      " 0   Customer_ID          50 non-null     object\n",
      " 1   Nama Pelanggan       50 non-null     object\n",
      " 2   Jenis Kelamin        50 non-null     object\n",
      " 3   Umur                 50 non-null     int64 \n",
      " 4   Profesi              50 non-null     object\n",
      " 5   Tipe Residen         50 non-null     object\n",
      " 6   NilaiBelanjaSetahun  50 non-null     int64 \n",
      "dtypes: int64(2), object(5)\n",
      "memory usage: 2.9+ KB\n"
     ]
    }
   ],
   "source": [
    "# Menampilkan informasi data  \n",
    "df.info() \n"
   ]
  },
  {
   "cell_type": "code",
   "execution_count": 58,
   "metadata": {},
   "outputs": [
    {
     "name": "stdout",
     "output_type": "stream",
     "text": [
      "  adjustable: {'box', 'datalim'}\n",
      "  agg_filter: a filter function, which takes a (m, n, 3) float array and a dpi value, and returns a (m, n, 3) array\n",
      "  alpha: float or None\n",
      "  anchor: 2-tuple of floats or {'C', 'SW', 'S', 'SE', ...}\n",
      "  animated: bool\n",
      "  aspect: {'auto', 'equal'} or num\n",
      "  autoscale_on: bool\n",
      "  autoscalex_on: bool\n",
      "  autoscaley_on: bool\n",
      "  axes_locator: Callable[[Axes, Renderer], Bbox]\n",
      "  axisbelow: bool or 'line'\n",
      "  clip_box: `.Bbox`\n",
      "  clip_on: bool\n",
      "  clip_path: Patch or (Path, Transform) or None\n",
      "  contains: callable\n",
      "  facecolor: color\n",
      "  fc: color\n",
      "  figure: `.Figure`\n",
      "  frame_on: bool\n",
      "  gid: str\n",
      "  in_layout: bool\n",
      "  label: object\n",
      "  navigate: bool\n",
      "  navigate_mode: unknown\n",
      "  path_effects: `.AbstractPathEffect`\n",
      "  picker: None or bool or float or callable\n",
      "  position: [left, bottom, width, height] or `~matplotlib.transforms.Bbox`\n",
      "  prop_cycle: unknown\n",
      "  rasterization_zorder: float or None\n",
      "  rasterized: bool or None\n",
      "  sketch_params: (scale: float, length: float, randomness: float)\n",
      "  snap: bool or None\n",
      "  subplotspec: unknown\n",
      "  title: str\n",
      "  transform: `.Transform`\n",
      "  url: str\n",
      "  visible: bool\n",
      "  xbound: unknown\n",
      "  xlabel: str\n",
      "  xlim: (bottom: float, top: float)\n",
      "  xmargin: float greater than -0.5\n",
      "  xscale: {\"linear\", \"log\", \"symlog\", \"logit\", ...}\n",
      "  xticklabels: List[str]\n",
      "  xticks: unknown\n",
      "  ybound: unknown\n",
      "  ylabel: str\n",
      "  ylim: (bottom: float, top: float)\n",
      "  ymargin: float greater than -0.5\n",
      "  yscale: {\"linear\", \"log\", \"symlog\", \"logit\", ...}\n",
      "  yticklabels: List[str]\n",
      "  yticks: unknown\n",
      "  zorder: float\n"
     ]
    },
    {
     "data": {
      "text/plain": [
       "<Figure size 432x288 with 0 Axes>"
      ]
     },
     "metadata": {},
     "output_type": "display_data"
    },
    {
     "data": {
      "image/png": "[encoded data removed]",
      "text/plain": [
       "<Figure size 720x648 with 4 Axes>"
      ]
     },
     "metadata": {},
     "output_type": "display_data"
    }
   ],
   "source": [
    "import matplotlib.pyplot as plt\n",
    "import seaborn as sns\n",
    "sns.set(style='white')\n",
    "plt.clf()\n",
    "  \n",
    "# Fungsi untuk membuat plot  \n",
    "def observasi_num(features):  \n",
    "    fig, axs = plt.subplots(2, 2, figsize=(10, 9))\n",
    "    for i, kol in enumerate(features):\n",
    "        sns.boxplot(df[kol], ax = axs[i][0])\n",
    "        sns.distplot(df[kol], ax = axs[i][1])   \n",
    "        axs[i][0].set_title('mean = %.2f\\n median = %.2f\\n std = %.2f'%(df[kol].mean(), df[kol].median(), df[kol].std()))\n",
    "    plt.setp(axs)\n",
    "    plt.tight_layout()\n",
    "    plt.show()  \n",
    "  \n",
    "# Memanggil fungsi untuk membuat Plot untuk data numerik  \n",
    "kolom_numerik = ['Umur','NilaiBelanjaSetahun']\n",
    "observasi_num(kolom_numerik)"
   ]
  },
  {
   "cell_type": "code",
   "execution_count": 59,
   "metadata": {},
   "outputs": [
    {
     "name": "stdout",
     "output_type": "stream",
     "text": [
      "  adjustable: {'box', 'datalim'}\n",
      "  agg_filter: a filter function, which takes a (m, n, 3) float array and a dpi value, and returns a (m, n, 3) array\n",
      "  alpha: float or None\n",
      "  anchor: 2-tuple of floats or {'C', 'SW', 'S', 'SE', ...}\n",
      "  animated: bool\n",
      "  aspect: {'auto', 'equal'} or num\n",
      "  autoscale_on: bool\n",
      "  autoscalex_on: bool\n",
      "  autoscaley_on: bool\n",
      "  axes_locator: Callable[[Axes, Renderer], Bbox]\n",
      "  axisbelow: bool or 'line'\n",
      "  clip_box: `.Bbox`\n",
      "  clip_on: bool\n",
      "  clip_path: Patch or (Path, Transform) or None\n",
      "  contains: callable\n",
      "  facecolor: color\n",
      "  fc: color\n",
      "  figure: `.Figure`\n",
      "  frame_on: bool\n",
      "  gid: str\n",
      "  in_layout: bool\n",
      "  label: object\n",
      "  navigate: bool\n",
      "  navigate_mode: unknown\n",
      "  path_effects: `.AbstractPathEffect`\n",
      "  picker: None or bool or float or callable\n",
      "  position: [left, bottom, width, height] or `~matplotlib.transforms.Bbox`\n",
      "  prop_cycle: unknown\n",
      "  rasterization_zorder: float or None\n",
      "  rasterized: bool or None\n",
      "  sketch_params: (scale: float, length: float, randomness: float)\n",
      "  snap: bool or None\n",
      "  subplotspec: unknown\n",
      "  title: str\n",
      "  transform: `.Transform`\n",
      "  url: str\n",
      "  visible: bool\n",
      "  xbound: unknown\n",
      "  xlabel: str\n",
      "  xlim: (bottom: float, top: float)\n",
      "  xmargin: float greater than -0.5\n",
      "  xscale: {\"linear\", \"log\", \"symlog\", \"logit\", ...}\n",
      "  xticklabels: List[str]\n",
      "  xticks: unknown\n",
      "  ybound: unknown\n",
      "  ylabel: str\n",
      "  ylim: (bottom: float, top: float)\n",
      "  ymargin: float greater than -0.5\n",
      "  yscale: {\"linear\", \"log\", \"symlog\", \"logit\", ...}\n",
      "  yticklabels: List[str]\n",
      "  yticks: unknown\n",
      "  zorder: float\n",
      "  adjustable: {'box', 'datalim'}\n",
      "  agg_filter: a filter function, which takes a (m, n, 3) float array and a dpi value, and returns a (m, n, 3) array\n",
      "  alpha: float or None\n",
      "  anchor: 2-tuple of floats or {'C', 'SW', 'S', 'SE', ...}\n",
      "  animated: bool\n",
      "  aspect: {'auto', 'equal'} or num\n",
      "  autoscale_on: bool\n",
      "  autoscalex_on: bool\n",
      "  autoscaley_on: bool\n",
      "  axes_locator: Callable[[Axes, Renderer], Bbox]\n",
      "  axisbelow: bool or 'line'\n",
      "  clip_box: `.Bbox`\n",
      "  clip_on: bool\n",
      "  clip_path: Patch or (Path, Transform) or None\n",
      "  contains: callable\n",
      "  facecolor: color\n",
      "  fc: color\n",
      "  figure: `.Figure`\n",
      "  frame_on: bool\n",
      "  gid: str\n",
      "  in_layout: bool\n",
      "  label: object\n",
      "  navigate: bool\n",
      "  navigate_mode: unknown\n",
      "  path_effects: `.AbstractPathEffect`\n",
      "  picker: None or bool or float or callable\n",
      "  position: [left, bottom, width, height] or `~matplotlib.transforms.Bbox`\n",
      "  prop_cycle: unknown\n",
      "  rasterization_zorder: float or None\n",
      "  rasterized: bool or None\n",
      "  sketch_params: (scale: float, length: float, randomness: float)\n",
      "  snap: bool or None\n",
      "  subplotspec: unknown\n",
      "  title: str\n",
      "  transform: `.Transform`\n",
      "  url: str\n",
      "  visible: bool\n",
      "  xbound: unknown\n",
      "  xlabel: str\n",
      "  xlim: (bottom: float, top: float)\n",
      "  xmargin: float greater than -0.5\n",
      "  xscale: {\"linear\", \"log\", \"symlog\", \"logit\", ...}\n",
      "  xticklabels: List[str]\n",
      "  xticks: unknown\n",
      "  ybound: unknown\n",
      "  ylabel: str\n",
      "  ylim: (bottom: float, top: float)\n",
      "  ymargin: float greater than -0.5\n",
      "  yscale: {\"linear\", \"log\", \"symlog\", \"logit\", ...}\n",
      "  yticklabels: List[str]\n",
      "  yticks: unknown\n",
      "  zorder: float\n",
      "  adjustable: {'box', 'datalim'}\n",
      "  agg_filter: a filter function, which takes a (m, n, 3) float array and a dpi value, and returns a (m, n, 3) array\n",
      "  alpha: float or None\n",
      "  anchor: 2-tuple of floats or {'C', 'SW', 'S', 'SE', ...}\n",
      "  animated: bool\n",
      "  aspect: {'auto', 'equal'} or num\n",
      "  autoscale_on: bool\n",
      "  autoscalex_on: bool\n",
      "  autoscaley_on: bool\n",
      "  axes_locator: Callable[[Axes, Renderer], Bbox]\n",
      "  axisbelow: bool or 'line'\n",
      "  clip_box: `.Bbox`\n",
      "  clip_on: bool\n",
      "  clip_path: Patch or (Path, Transform) or None\n",
      "  contains: callable\n",
      "  facecolor: color\n",
      "  fc: color\n",
      "  figure: `.Figure`\n",
      "  frame_on: bool\n",
      "  gid: str\n",
      "  in_layout: bool\n",
      "  label: object\n",
      "  navigate: bool\n",
      "  navigate_mode: unknown\n",
      "  path_effects: `.AbstractPathEffect`\n",
      "  picker: None or bool or float or callable\n",
      "  position: [left, bottom, width, height] or `~matplotlib.transforms.Bbox`\n",
      "  prop_cycle: unknown\n",
      "  rasterization_zorder: float or None\n",
      "  rasterized: bool or None\n",
      "  sketch_params: (scale: float, length: float, randomness: float)\n",
      "  snap: bool or None\n",
      "  subplotspec: unknown\n",
      "  title: str\n",
      "  transform: `.Transform`\n",
      "  url: str\n",
      "  visible: bool\n",
      "  xbound: unknown\n",
      "  xlabel: str\n",
      "  xlim: (bottom: float, top: float)\n",
      "  xmargin: float greater than -0.5\n",
      "  xscale: {\"linear\", \"log\", \"symlog\", \"logit\", ...}\n",
      "  xticklabels: List[str]\n",
      "  xticks: unknown\n",
      "  ybound: unknown\n",
      "  ylabel: str\n",
      "  ylim: (bottom: float, top: float)\n",
      "  ymargin: float greater than -0.5\n",
      "  yscale: {\"linear\", \"log\", \"symlog\", \"logit\", ...}\n",
      "  yticklabels: List[str]\n",
      "  yticks: unknown\n",
      "  zorder: float\n"
     ]
    },
    {
     "data": {
      "text/plain": [
       "<Figure size 432x288 with 0 Axes>"
      ]
     },
     "metadata": {},
     "output_type": "display_data"
    },
    {
     "data": {
      "image/png": "[encoded data removed]",
      "text/plain": [
       "<Figure size 504x720 with 3 Axes>"
      ]
     },
     "metadata": {},
     "output_type": "display_data"
    }
   ],
   "source": [
    "import matplotlib.pyplot as plt\n",
    "import seaborn as sns\n",
    "sns.set(style='white')\n",
    "plt.clf()\n",
    "  \n",
    "# Menyiapkan kolom kategorikal  \n",
    "kolom_kategorikal = ['Jenis Kelamin','Profesi','Tipe Residen']  \n",
    "\n",
    "# Membuat canvas\n",
    "fig, axs = plt.subplots(3,1,figsize=(7,10)) \n",
    "\n",
    "# Membuat plot untuk setiap kolom kategorikal  \n",
    "for i, kol in enumerate(kolom_kategorikal):  \n",
    "    # Membuat Plot\n",
    "    sns.countplot(df[kol], order = df[kol].value_counts().index, ax = axs[i])  \n",
    "    axs[i].set_title('\\nCount Plot %s\\n'%(kol), fontsize=15)  \n",
    "      \n",
    "    # Memberikan anotasi  \n",
    "    for p in axs[i].patches:  \n",
    "        axs[i].annotate(format(p.get_height(), '.0f'),  \n",
    "                        (p.get_x() + p.get_width() / 2., p.get_height()),  \n",
    "                        ha = 'center',  \n",
    "                        va = 'center',  \n",
    "                        xytext = (0, 10),  \n",
    "                        textcoords = 'offset points') \n",
    "          \n",
    "    # Setting Plot  \n",
    "    sns.despine(right=True,top = True, left = True)  \n",
    "    axs[i].axes.yaxis.set_visible(False) \n",
    "    plt.setp(axs)\n",
    "    plt.tight_layout()\n",
    "\n",
    "# Tampilkan plot\n",
    "plt.show()"
   ]
  },
  {
   "cell_type": "code",
   "execution_count": 60,
   "metadata": {},
   "outputs": [
    {
     "name": "stdout",
     "output_type": "stream",
     "text": [
      "Statistik Sebelum Standardisasi\n",
      "\n",
      "       Umur  NilaiBelanjaSetahun\n",
      "count  50.0                 50.0\n",
      "mean   37.5            7069874.8\n",
      "std    14.7            2590619.0\n",
      "min    14.0            2722700.0\n",
      "25%    25.0            5257529.8\n",
      "50%    35.0            5980077.0\n",
      "75%    49.8            9739615.0\n",
      "max    64.0           10884508.0\n",
      "Contoh hasil standardisasi\n",
      "\n",
      "       Umur  NilaiBelanjaSetahun\n",
      "0  1.411245             0.946763\n",
      "1 -1.617768            -1.695081\n",
      "2  0.722833            -0.695414\n",
      "3  1.067039            -0.727361\n",
      "4  0.240944             1.382421\n",
      "Statistik hasil standardisasi\n",
      "\n",
      "       Umur  NilaiBelanjaSetahun\n",
      "count  50.0                 50.0\n",
      "mean    0.0                 -0.0\n",
      "std     1.0                  1.0\n",
      "min    -2.0                 -2.0\n",
      "25%    -1.0                 -1.0\n",
      "50%    -0.0                 -0.0\n",
      "75%     1.0                  1.0\n",
      "max     2.0                  1.0\n"
     ]
    }
   ],
   "source": [
    "from sklearn.preprocessing import StandardScaler  \n",
    "  \n",
    "kolom_numerik = ['Umur','NilaiBelanjaSetahun']  \n",
    "  \n",
    "# Statistik sebelum Standardisasi  \n",
    "print('Statistik Sebelum Standardisasi\\n')  \n",
    "print(df[kolom_numerik].describe().round(1))  \n",
    "  \n",
    "# Standardisasi  \n",
    "df_std = StandardScaler().fit_transform(df[kolom_numerik])  \n",
    "  \n",
    "# Membuat DataFrame  \n",
    "df_std = pd.DataFrame(data=df_std, index=df.index, columns=df[kolom_numerik].columns)  \n",
    "  \n",
    "# Menampilkan contoh isi data dan summary statistic  \n",
    "print('Contoh hasil standardisasi\\n')\n",
    "print(df_std.head())  \n",
    "  \n",
    "print('Statistik hasil standardisasi\\n')\n",
    "print(df_std.describe().round(0))  \n"
   ]
  },
  {
   "cell_type": "code",
   "execution_count": 61,
   "metadata": {},
   "outputs": [
    {
     "name": "stdout",
     "output_type": "stream",
     "text": [
      "   Jenis Kelamin  Profesi  Tipe Residen\n",
      "0              0        4             1\n",
      "1              1        2             0\n",
      "2              0        3             0\n",
      "3              0        3             0\n",
      "4              1        4             0\n"
     ]
    }
   ],
   "source": [
    "from sklearn.preprocessing import LabelEncoder\n",
    "  \n",
    "# Inisiasi nama kolom kategorikal  \n",
    "kolom_kategorikal = ['Jenis Kelamin','Profesi','Tipe Residen']  \n",
    "  \n",
    "# Membuat salinan data frame  \n",
    "df_encode = df[kolom_kategorikal].copy()  \n",
    "  \n",
    "  \n",
    "# Melakukan labelEncoder untuk semua kolom kategorikal  \n",
    "for col in kolom_kategorikal:\n",
    "    df_encode[col] = LabelEncoder().fit_transform(df_encode[col])\n",
    "\n",
    "      \n",
    "# Menampilkan data  \n",
    "print(df_encode.head())\n"
   ]
  },
  {
   "cell_type": "code",
   "execution_count": 62,
   "metadata": {},
   "outputs": [
    {
     "name": "stdout",
     "output_type": "stream",
     "text": [
      "   Jenis Kelamin  Profesi  Tipe Residen      Umur  NilaiBelanjaSetahun\n",
      "0              0        4             1  1.411245             0.946763\n",
      "1              1        2             0 -1.617768            -1.695081\n",
      "2              0        3             0  0.722833            -0.695414\n",
      "3              0        3             0  1.067039            -0.727361\n",
      "4              1        4             0  0.240944             1.382421\n"
     ]
    }
   ],
   "source": [
    "# Menggabungkan data frame\n",
    "df_model= df_encode.merge(df_std, left_index = True, right_index=True, how= 'left')  \n",
    "print (df_model.head())\n"
   ]
  },
  {
   "cell_type": "code",
   "execution_count": 63,
   "metadata": {},
   "outputs": [
    {
     "data": {
      "image/png": "[encoded data removed]",
      "text/plain": [
       "<Figure size 432x288 with 1 Axes>"
      ]
     },
     "metadata": {},
     "output_type": "display_data"
    }
   ],
   "source": [
    "from kmodes.kmodes import KModes  \n",
    "from kmodes.kprototypes import KPrototypes  \n",
    "import pandas as pd\n",
    "import seaborn as sns\n",
    "import matplotlib.pyplot as plt  \n",
    "df_model = pd.read_csv('https://dqlab-dataset.s3-ap-southeast-1.amazonaws.com/df-customer-segmentation.csv')\n",
    "\n",
    "# Melakukan Iterasi untuk Mendapatkan nilai Cost  \n",
    "cost = {}  \n",
    "for k in range(2,10):  \n",
    "    kproto = KPrototypes(n_clusters = k,random_state=75)  \n",
    "    kproto.fit_predict(df_model, categorical=[0,1,2])  \n",
    "    cost[k]= kproto.cost_  \n",
    "  \n",
    "# Memvisualisasikan Elbow Plot  \n",
    "sns.pointplot(x=list(cost.keys()), y=list(cost.values()))  \n",
    "plt.show()\n"
   ]
  },
  {
   "cell_type": "code",
   "execution_count": 64,
   "metadata": {},
   "outputs": [],
   "source": [
    "import pickle  \n",
    "from kmodes.kmodes import KModes \n",
    "from kmodes.kprototypes import KPrototypes  \n",
    "  \n",
    "kproto = KPrototypes(n_clusters=5, random_state = 75)\n",
    "kproto = kproto.fit(df_model, categorical=[0,1,2])  \n",
    "  \n",
    "#Save Model  \n",
    "pickle.dump(kproto, open('cluster.pkl', 'wb'))  \n"
   ]
  },
  {
   "cell_type": "code",
   "execution_count": 65,
   "metadata": {},
   "outputs": [
    {
     "name": "stdout",
     "output_type": "stream",
     "text": [
      "segmen pelanggan: [1 2 4 4 0 3 1 4 3 3 4 4 1 1 0 3 3 4 0 2 0 4 3 0 0 4 0 3 4 4 2 1 2 0 3 0 3\n",
      " 1 3 2 3 0 3 0 3 0 4 1 3 1]\n",
      "\n",
      "  Customer_ID       Nama Pelanggan Jenis Kelamin  Umur       Profesi  \\\n",
      "0    CUST-001         Budi Anggara          Pria    58    Wiraswasta   \n",
      "1    CUST-002     Shirley Ratuwati        Wanita    14       Pelajar   \n",
      "2    CUST-003         Agus Cahyono          Pria    48  Professional   \n",
      "3    CUST-004     Antonius Winarta          Pria    53  Professional   \n",
      "4    CUST-005  Ibu Sri Wahyuni, IR        Wanita    41    Wiraswasta   \n",
      "\n",
      "  Tipe Residen  NilaiBelanjaSetahun  cluster  \n",
      "0       Sector              9497927        1  \n",
      "1      Cluster              2722700        2  \n",
      "2      Cluster              5286429        4  \n",
      "3      Cluster              5204498        4  \n",
      "4      Cluster             10615206        0  \n"
     ]
    }
   ],
   "source": [
    "import pandas as pd\n",
    "df = pd.read_csv(\"https://dqlab-dataset.s3-ap-southeast-1.amazonaws.com/customer_segments.txt\", sep=\"\\t\") \n",
    "# Menentukan segmen tiap pelanggan    \n",
    "clusters =  kproto.predict(df_model, categorical=[0,1,2])    \n",
    "print('segmen pelanggan: {}\\n'.format(clusters))    \n",
    "    \n",
    "# Menggabungkan data awal dan segmen pelanggan    \n",
    "df_final = df.copy()\n",
    "df_final['cluster'] = clusters\n",
    "print(df_final.head())"
   ]
  },
  {
   "cell_type": "code",
   "execution_count": 66,
   "metadata": {},
   "outputs": [
    {
     "name": "stdout",
     "output_type": "stream",
     "text": [
      "\n",
      "Pelanggan cluster: 0\n",
      "\n",
      "   Customer_ID       Nama Pelanggan Jenis Kelamin  Umur     Profesi  \\\n",
      "4     CUST-005  Ibu Sri Wahyuni, IR        Wanita    41  Wiraswasta   \n",
      "14    CUST-015     Shirley Ratuwati        Wanita    20  Wiraswasta   \n",
      "18    CUST-019         Mega Pranoto        Wanita    32  Wiraswasta   \n",
      "20    CUST-021     Lestari Fabianto        Wanita    38  Wiraswasta   \n",
      "23    CUST-024        Putri Ginting        Wanita    39  Wiraswasta   \n",
      "24    CUST-025       Julia Setiawan        Wanita    29  Wiraswasta   \n",
      "26    CUST-027        Grace Mulyati        Wanita    35  Wiraswasta   \n",
      "33    CUST-034       Deasy Arisandi        Wanita    21  Wiraswasta   \n",
      "35    CUST-036       Ni Made Suasti        Wanita    30  Wiraswasta   \n",
      "41    CUST-042         Yuliana Wati        Wanita    26  Wiraswasta   \n",
      "43    CUST-044                 Anna        Wanita    18  Wiraswasta   \n",
      "45    CUST-046         Elfira Surya        Wanita    25  Wiraswasta   \n",
      "\n",
      "   Tipe Residen  NilaiBelanjaSetahun  cluster  \n",
      "4       Cluster             10615206        0  \n",
      "14      Cluster             10365668        0  \n",
      "18      Cluster             10884508        0  \n",
      "20      Cluster              9222070        0  \n",
      "23      Cluster             10259572        0  \n",
      "24       Sector             10721998        0  \n",
      "26      Cluster              9114159        0  \n",
      "33       Sector              9759822        0  \n",
      "35      Cluster              9678994        0  \n",
      "41      Cluster              9880607        0  \n",
      "43      Cluster              9339737        0  \n",
      "45       Sector             10099807        0  \n",
      "\n",
      "Pelanggan cluster: 1\n",
      "\n",
      "   Customer_ID    Nama Pelanggan Jenis Kelamin  Umur     Profesi Tipe Residen  \\\n",
      "0     CUST-001      Budi Anggara          Pria    58  Wiraswasta       Sector   \n",
      "6     CUST-007     Cahyono, Agus          Pria    64  Wiraswasta       Sector   \n",
      "12    CUST-013      Cahaya Putri        Wanita    64  Wiraswasta      Cluster   \n",
      "13    CUST-014    Mario Setiawan          Pria    60  Wiraswasta      Cluster   \n",
      "31    CUST-032   Chintya Winarni        Wanita    47  Wiraswasta       Sector   \n",
      "37    CUST-038      Agatha Salim        Wanita    46  Wiraswasta       Sector   \n",
      "47    CUST-048  Maria Hutagalung        Wanita    45  Wiraswasta       Sector   \n",
      "49    CUST-050    Lianna Nugraha        Wanita    55  Wiraswasta       Sector   \n",
      "\n",
      "    NilaiBelanjaSetahun  cluster  \n",
      "0               9497927        1  \n",
      "6               9837260        1  \n",
      "12              9333168        1  \n",
      "13              9471615        1  \n",
      "31             10663179        1  \n",
      "37             10477127        1  \n",
      "47             10390732        1  \n",
      "49             10569316        1  \n",
      "\n",
      "Pelanggan cluster: 2\n",
      "\n",
      "   Customer_ID    Nama Pelanggan Jenis Kelamin  Umur    Profesi Tipe Residen  \\\n",
      "1     CUST-002  Shirley Ratuwati        Wanita    14    Pelajar      Cluster   \n",
      "19    CUST-020    Irene Novianto        Wanita    16    Pelajar       Sector   \n",
      "30    CUST-031     Eviana Handry        Wanita    19  Mahasiswa      Cluster   \n",
      "32    CUST-033   Cecilia Kusnadi        Wanita    19  Mahasiswa      Cluster   \n",
      "39    CUST-040    Irene Darmawan        Wanita    14    Pelajar       Sector   \n",
      "\n",
      "    NilaiBelanjaSetahun  cluster  \n",
      "1               2722700        2  \n",
      "19              2896845        2  \n",
      "30              3042773        2  \n",
      "32              3047926        2  \n",
      "39              2861855        2  \n",
      "\n",
      "Pelanggan cluster: 3\n",
      "\n",
      "   Customer_ID         Nama Pelanggan Jenis Kelamin  Umur           Profesi  \\\n",
      "5     CUST-006        Rosalina Kurnia        Wanita    24      Professional   \n",
      "8     CUST-009  Elisabeth Suryadinata        Wanita    29      Professional   \n",
      "9     CUST-010         Mario Setiawan          Pria    33      Professional   \n",
      "15    CUST-016           Bambang Rudi          Pria    35      Professional   \n",
      "16    CUST-017              Yuni Sari        Wanita    32  Ibu Rumah Tangga   \n",
      "22    CUST-023        Denny Amiruddin          Pria    34      Professional   \n",
      "27    CUST-028          Adeline Huang        Wanita    40  Ibu Rumah Tangga   \n",
      "34    CUST-035                Ida Ayu        Wanita    39      Professional   \n",
      "36    CUST-037       Felicia Tandiono        Wanita    25      Professional   \n",
      "38    CUST-039           Gina Hidayat        Wanita    20      Professional   \n",
      "40    CUST-041       Shinta Aritonang        Wanita    24  Ibu Rumah Tangga   \n",
      "42    CUST-043           Yenna Sumadi        Wanita    31      Professional   \n",
      "44    CUST-045         Rismawati Juni        Wanita    22      Professional   \n",
      "48    CUST-049        Josephine Wahab        Wanita    33  Ibu Rumah Tangga   \n",
      "\n",
      "   Tipe Residen  NilaiBelanjaSetahun  cluster  \n",
      "5       Cluster              5215541        3  \n",
      "8        Sector              5993218        3  \n",
      "9       Cluster              5257448        3  \n",
      "15      Cluster              5262521        3  \n",
      "16      Cluster              5677762        3  \n",
      "22      Cluster              5239290        3  \n",
      "27      Cluster              6631680        3  \n",
      "34       Sector              5962575        3  \n",
      "36       Sector              5972787        3  \n",
      "38      Cluster              5257775        3  \n",
      "40      Cluster              6820976        3  \n",
      "42      Cluster              5268410        3  \n",
      "44      Cluster              5211041        3  \n",
      "48       Sector              4992585        3  \n",
      "\n",
      "Pelanggan cluster: 4\n",
      "\n",
      "   Customer_ID     Nama Pelanggan Jenis Kelamin  Umur           Profesi  \\\n",
      "2     CUST-003       Agus Cahyono          Pria    48      Professional   \n",
      "3     CUST-004   Antonius Winarta          Pria    53      Professional   \n",
      "7     CUST-008     Danang Santosa          Pria    52      Professional   \n",
      "10    CUST-011     Maria Suryawan        Wanita    50      Professional   \n",
      "11    CUST-012    Erliana Widjaja        Wanita    49      Professional   \n",
      "17    CUST-018        Nelly Halim        Wanita    63  Ibu Rumah Tangga   \n",
      "21    CUST-022       Novita Purba        Wanita    52      Professional   \n",
      "25    CUST-026  Christine Winarto        Wanita    55      Professional   \n",
      "28    CUST-029       Tia Hartanti        Wanita    56      Professional   \n",
      "29    CUST-030     Rosita Saragih        Wanita    46  Ibu Rumah Tangga   \n",
      "46    CUST-047        Mira Kurnia        Wanita    55  Ibu Rumah Tangga   \n",
      "\n",
      "   Tipe Residen  NilaiBelanjaSetahun  cluster  \n",
      "2       Cluster              5286429        4  \n",
      "3       Cluster              5204498        4  \n",
      "7       Cluster              5223569        4  \n",
      "10       Sector              5987367        4  \n",
      "11       Sector              5941914        4  \n",
      "17      Cluster              5340690        4  \n",
      "21      Cluster              5298157        4  \n",
      "25      Cluster              5269392        4  \n",
      "28      Cluster              5271845        4  \n",
      "29       Sector              5020976        4  \n",
      "46      Cluster              6130724        4  \n"
     ]
    }
   ],
   "source": [
    "# Menampilkan data pelanggan berdasarkan cluster nya  \n",
    "for i in range (0,5):  \n",
    "    print('\\nPelanggan cluster: {}\\n'.format(i))\n",
    "    print(df_final[df_final['cluster']== i])\n"
   ]
  },
  {
   "cell_type": "code",
   "execution_count": 67,
   "metadata": {},
   "outputs": [
    {
     "data": {
      "image/png": "[encoded data removed]",
      "text/plain": [
       "<Figure size 432x288 with 1 Axes>"
      ]
     },
     "metadata": {},
     "output_type": "display_data"
    },
    {
     "data": {
      "image/png": "[encoded data removed]",
      "text/plain": [
       "<Figure size 432x288 with 1 Axes>"
      ]
     },
     "metadata": {},
     "output_type": "display_data"
    }
   ],
   "source": [
    "import matplotlib.pyplot as plt\n",
    "# Data Numerical\n",
    "kolom_numerik = ['Umur','NilaiBelanjaSetahun']  \n",
    "  \n",
    "for i in kolom_numerik:  \n",
    "    plt.figure(figsize=(6,4))\n",
    "    ax = sns.boxplot(x = 'cluster',y = i, data = df_final)\n",
    "    plt.title('\\nBox Plot {}\\n'.format(i), fontsize=12)\n",
    "    plt.show() \n"
   ]
  },
  {
   "cell_type": "code",
   "execution_count": 68,
   "metadata": {},
   "outputs": [
    {
     "data": {
      "image/png": "[encoded data removed]",
      "text/plain": [
       "<Figure size 432x288 with 1 Axes>"
      ]
     },
     "metadata": {},
     "output_type": "display_data"
    },
    {
     "data": {
      "image/png": "[encoded data removed]",
      "text/plain": [
       "<Figure size 432x288 with 1 Axes>"
      ]
     },
     "metadata": {},
     "output_type": "display_data"
    },
    {
     "data": {
      "image/png": "[encoded data removed]",
      "text/plain": [
       "<Figure size 432x288 with 1 Axes>"
      ]
     },
     "metadata": {},
     "output_type": "display_data"
    }
   ],
   "source": [
    "import matplotlib.pyplot as plt  \n",
    "# Data Kategorikal  \n",
    "kolom_categorical = ['Jenis Kelamin','Profesi','Tipe Residen']  \n",
    "  \n",
    "for i in kolom_categorical:  \n",
    "    plt.figure(figsize=(6,4))  \n",
    "    ax = sns.countplot(data = df_final, x = 'cluster', hue = i )  \n",
    "    plt.title('\\nCount Plot {}\\n'.format(i), fontsize=12)  \n",
    "    ax.legend(loc=\"upper center\")  \n",
    "    for p in ax.patches:  \n",
    "        ax.annotate(format(p.get_height(), '.0f'),  \n",
    "                    (p.get_x() + p.get_width() / 2., p.get_height()),  \n",
    "                     ha = 'center',  \n",
    "                     va = 'center',  \n",
    "                     xytext = (0, 10),  \n",
    "                     textcoords = 'offset points')  \n",
    "      \n",
    "    sns.despine(right=True,top = True, left = True)  \n",
    "    ax.axes.yaxis.set_visible(False)  \n",
    "    plt.show()  \n"
   ]
  },
  {
   "cell_type": "code",
   "execution_count": 69,
   "metadata": {},
   "outputs": [
    {
     "name": "stdout",
     "output_type": "stream",
     "text": [
      "<class 'pandas.core.frame.DataFrame'>\n",
      "RangeIndex: 50 entries, 0 to 49\n",
      "Data columns (total 9 columns):\n",
      " #   Column               Non-Null Count  Dtype \n",
      "---  ------               --------------  ----- \n",
      " 0   Customer_ID          50 non-null     object\n",
      " 1   Nama Pelanggan       50 non-null     object\n",
      " 2   Jenis Kelamin        50 non-null     object\n",
      " 3   Umur                 50 non-null     int64 \n",
      " 4   Profesi              50 non-null     object\n",
      " 5   Tipe Residen         50 non-null     object\n",
      " 6   NilaiBelanjaSetahun  50 non-null     int64 \n",
      " 7   cluster              50 non-null     uint16\n",
      " 8   segmen               50 non-null     object\n",
      "dtypes: int64(2), object(6), uint16(1)\n",
      "memory usage: 3.3+ KB\n",
      "None\n",
      "  Customer_ID       Nama Pelanggan Jenis Kelamin  Umur       Profesi  \\\n",
      "0    CUST-001         Budi Anggara          Pria    58    Wiraswasta   \n",
      "1    CUST-002     Shirley Ratuwati        Wanita    14       Pelajar   \n",
      "2    CUST-003         Agus Cahyono          Pria    48  Professional   \n",
      "3    CUST-004     Antonius Winarta          Pria    53  Professional   \n",
      "4    CUST-005  Ibu Sri Wahyuni, IR        Wanita    41    Wiraswasta   \n",
      "\n",
      "  Tipe Residen  NilaiBelanjaSetahun  cluster                 segmen  \n",
      "0       Sector              9497927        1  Diamond Senior Member  \n",
      "1      Cluster              2722700        2          Silver Member  \n",
      "2      Cluster              5286429        4     Gold Senior Member  \n",
      "3      Cluster              5204498        4     Gold Senior Member  \n",
      "4      Cluster             10615206        0   Diamond Young Member  \n"
     ]
    }
   ],
   "source": [
    "# Mapping nama kolom  \n",
    "df_final['segmen'] = df_final['cluster'].map({  \n",
    "    0: 'Diamond Young Member',  \n",
    "    1: 'Diamond Senior Member',  \n",
    "    2: 'Silver Member',  \n",
    "    3: 'Gold Young Member',  \n",
    "    4: 'Gold Senior Member'  \n",
    "})  \n",
    "\n",
    "print(df_final.info())\n",
    "print(df_final.head())  \n"
   ]
  },
  {
   "cell_type": "code",
   "execution_count": 70,
   "metadata": {},
   "outputs": [
    {
     "name": "stdout",
     "output_type": "stream",
     "text": [
      "  Customer_ID Nama Pelanggan Jenis Kelamin  Umur     Profesi Tipe Residen  \\\n",
      "0    CUST-100           Joko          Pria    45  Wiraswasta      Cluster   \n",
      "\n",
      "   NilaiBelanjaSetahun  \n",
      "0              8230000  \n"
     ]
    }
   ],
   "source": [
    "# Data Baru  \n",
    "data = [{  \n",
    "    'Customer_ID': 'CUST-100' ,  \n",
    "    'Nama Pelanggan': 'Joko' ,  \n",
    "    'Jenis Kelamin': 'Pria',  \n",
    "    'Umur': 45,  \n",
    "    'Profesi': 'Wiraswasta',  \n",
    "    'Tipe Residen': 'Cluster' ,  \n",
    "    'NilaiBelanjaSetahun': 8230000  \n",
    "      \n",
    "}]  \n",
    "  \n",
    "# Membuat Data Frame  \n",
    "new_df = pd.DataFrame(data)  \n",
    "  \n",
    "# Melihat Data  \n",
    "print(new_df)  "
   ]
  },
  {
   "cell_type": "code",
   "execution_count": 71,
   "metadata": {},
   "outputs": [
    {
     "name": "stdout",
     "output_type": "stream",
     "text": [
      "   Jenis Kelamin  Profesi  Tipe Residen      Umur  NilaiBelanjaSetahun\n",
      "0              0        4             0  0.510204             0.447818\n"
     ]
    }
   ],
   "source": [
    "def data_preprocess(data):  \n",
    "    # Konversi Kategorikal data  \n",
    "    kolom_kategorikal = ['Jenis Kelamin','Profesi','Tipe Residen']  \n",
    "      \n",
    "    df_encode = data[kolom_kategorikal].copy()  \n",
    "  \n",
    "    ## Jenis Kelamin   \n",
    "    df_encode['Jenis Kelamin'] = df_encode['Jenis Kelamin'].map({  \n",
    "        'Pria': 0,  \n",
    "        'Wanita' : 1  \n",
    "    })  \n",
    "      \n",
    "    ## Profesi  \n",
    "    df_encode['Profesi'] = df_encode['Profesi'].map({  \n",
    "        'Ibu Rumah Tangga': 0,  \n",
    "        'Mahasiswa' : 1,  \n",
    "        'Pelajar': 2,  \n",
    "        'Professional': 3,  \n",
    "        'Wiraswasta': 4  \n",
    "    })  \n",
    "      \n",
    "    ## Tipe Residen  \n",
    "    df_encode['Tipe Residen'] = df_encode['Tipe Residen'].map({  \n",
    "        'Cluster': 0,  \n",
    "        'Sector' : 1  \n",
    "    })  \n",
    "      \n",
    "    # Standardisasi Numerical Data  \n",
    "    kolom_numerik = ['Umur','NilaiBelanjaSetahun']  \n",
    "    df_std = data[kolom_numerik].copy()  \n",
    "      \n",
    "    ## Standardisasi Kolom Umur  \n",
    "    df_std['Umur'] = (df_std['Umur'] - 37.5)/14.7  \n",
    "      \n",
    "    ## Standardisasi Kolom Nilai Belanja Setahun  \n",
    "    df_std['NilaiBelanjaSetahun'] = (df_std['NilaiBelanjaSetahun'] - 7069874.8)/2590619.0  \n",
    "      \n",
    "    # Menggabungkan Kategorikal dan numerikal data  \n",
    "    df_model = df_encode.merge(df_std, left_index = True,  \n",
    "                           right_index=True, how = 'left')  \n",
    "      \n",
    "    return df_model  \n",
    "  \n",
    "# Menjalankan fungsi  \n",
    "new_df_model = data_preprocess(new_df)  \n",
    "  \n",
    "print(new_df_model) \n"
   ]
  },
  {
   "cell_type": "code",
   "execution_count": 72,
   "metadata": {},
   "outputs": [
    {
     "name": "stdout",
     "output_type": "stream",
     "text": [
      "[1]\n"
     ]
    }
   ],
   "source": [
    "def modelling (data):  \n",
    "      \n",
    "    # Memanggil Model  \n",
    "    kpoto = pickle.load(open('cluster.pkl', 'rb'))  \n",
    "      \n",
    "    # Melakukan Prediksi  \n",
    "    clusters = kpoto.predict(data,categorical=[0,1,2])  \n",
    "      \n",
    "    return clusters  \n",
    "  \n",
    "# Menjalankan Fungsi  \n",
    "clusters = modelling(new_df_model)  \n",
    "  \n",
    "print(clusters)  \n"
   ]
  },
  {
   "cell_type": "code",
   "execution_count": 73,
   "metadata": {},
   "outputs": [
    {
     "name": "stdout",
     "output_type": "stream",
     "text": [
      "  Customer_ID Nama Pelanggan Jenis Kelamin  Umur     Profesi Tipe Residen  \\\n",
      "0    CUST-100           Joko          Pria    45  Wiraswasta      Cluster   \n",
      "\n",
      "   NilaiBelanjaSetahun  cluster                 segmen  \n",
      "0              8230000        1  Diamond Senior Member  \n"
     ]
    }
   ],
   "source": [
    "def menamakan_segmen (data_asli, clusters):  \n",
    "      \n",
    "    # Menggabungkan cluster dan data asli  \n",
    "    final_df = data_asli.copy()  \n",
    "    final_df['cluster'] = clusters\n",
    "      \n",
    "    # Menamakan segmen  \n",
    "    final_df['segmen'] = final_df['cluster'].map({  \n",
    "        0: 'Diamond Young Member',  \n",
    "        1: 'Diamond Senior Member',  \n",
    "        2: 'Silver Students',  \n",
    "        3: 'Gold Young Member',  \n",
    "        4: 'Gold Senior Member'  \n",
    "    })  \n",
    "      \n",
    "    return final_df\n",
    "  \n",
    "# Menjalankan Fungsi  \n",
    "new_final_df = menamakan_segmen(new_df,clusters)  \n",
    "  \n",
    "print(new_final_df)  \n"
   ]
  },
  {
   "cell_type": "code",
   "execution_count": null,
   "metadata": {},
   "outputs": [],
   "source": []
  }
 ],
 "metadata": {
  "kernelspec": {
   "display_name": "Python 3",
   "language": "python",
   "name": "python3"
  },
  "language_info": {
   "codemirror_mode": {
    "name": "ipython",
    "version": 3
   },
   "file_extension": ".py",
   "mimetype": "text/x-python",
   "name": "python",
   "nbconvert_exporter": "python",
   "pygments_lexer": "ipython3",
   "version": "3.8.3"
  }
 },
 "nbformat": 4,
 "nbformat_minor": 4
}
