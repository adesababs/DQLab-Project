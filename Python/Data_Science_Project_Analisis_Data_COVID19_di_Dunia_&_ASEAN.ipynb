{
  "nbformat": 4,
  "nbformat_minor": 0,
  "metadata": {
    "colab": {
      "name": "Data Science Project Analisis Data COVID19 di Dunia & ASEAN.ipynb",
      "provenance": [],
      "collapsed_sections": []
    },
    "kernelspec": {
      "name": "python3",
      "display_name": "Python 3"
    }
  },
  "cells": [
    {
      "cell_type": "markdown",
      "metadata": {
        "id": "OYKcf6ktgvuZ"
      },
      "source": [
        "# **Data Science Project: Analisis Data COVID19 di Dunia & ASEAN**\n",
        "\n",
        "---\n",
        "\n"
      ]
    },
    {
      "cell_type": "markdown",
      "metadata": {
        "id": "R0EfrYpxg5xV"
      },
      "source": [
        "# **About This Course:**\n",
        "Dengan menyelesaikan module ini, kamu akan mempraktekkan proses pengambilan data melalui Python API Request. Di samping itu kamu akan belajar untuk menggunakan merge dataset menggunakan PANDAS dan membuat visualisasi menggunakan Matplotlib.  "
      ]
    },
    {
      "cell_type": "markdown",
      "metadata": {
        "id": "PvugCjvshH-m"
      },
      "source": [
        "# **1. Pendahuluan**"
      ]
    },
    {
      "cell_type": "markdown",
      "metadata": {
        "id": "xjCzK2r9hMgF"
      },
      "source": [
        "# **Library yang dibutuhkan**\n",
        "Pertama-tama, import terlebih dahulu library yang dibutuhkan, antara lain secara berurutan adalah:\n",
        "* json,\n",
        "* numpy,\n",
        "* pandas, dan\n",
        "* requests.\n",
        "\n",
        "Library numpy dan pandas diimport sebagai aliasnya."
      ]
    },
    {
      "cell_type": "code",
      "metadata": {
        "id": "QcxOH4NbgCbt"
      },
      "source": [
        "#import library\n",
        "import json\n",
        "import numpy as np\n",
        "import pandas as pd\n",
        "import requests"
      ],
      "execution_count": 25,
      "outputs": []
    },
    {
      "cell_type": "markdown",
      "metadata": {
        "id": "RLrkRfXgEifh"
      },
      "source": [
        "# **2. Mengakses Data Covid-19 Dari https://covid19-api.org**"
      ]
    },
    {
      "cell_type": "markdown",
      "metadata": {
        "id": "5puZVgl2E85m"
      },
      "source": [
        "# **Membuat Fungsi get API**\n",
        "Buat fungsi python `get_json` dengan parameter `api_url`. Fungsi ini akan mengembalikan value berupa python dictionary jika `status_code` yang dihasilkan adalah **200**. Jika tidak, maka value yang dikembalikan adalah *None*."
      ]
    },
    {
      "cell_type": "code",
      "metadata": {
        "id": "xMLa2BhIFNfr"
      },
      "source": [
        "#Function get API\n",
        "def get_json(api_url):\n",
        "\tresponse = requests.get(api_url)\n",
        "\tif response.status_code == 200:\n",
        "\t\treturn json.loads(response.content.decode('utf-8'))\n",
        "\telse:\n",
        "\t\treturn None"
      ],
      "execution_count": 26,
      "outputs": []
    },
    {
      "cell_type": "markdown",
      "metadata": {
        "id": "TUwVnIOAFS1w"
      },
      "source": [
        "# **Memanggil API Covid19**\n",
        "Rekapitulasi data COVID-19 global berada di https://covid19-api.org/. Gunakan parameter `record_date` untuk mengambil data covid19 di seluruh negara pada tanggal tertentu. Untuk kasus ini, gunakan `record_date` '`2020-08-17`', dan masukkan hasil respon api ke variable `df_covid_worldwide`.\n",
        "\n",
        "Untuk mendapatkan dataframe covid19, gunakan fungsi `pd.io.json.json_normalize` dan panggil function yang sudah dibuat sebelumnya, yaitu` get_json()`. Print sample data covid dengan menggunakan `head()` function."
      ]
    },
    {
      "cell_type": "code",
      "metadata": {
        "colab": {
          "base_uri": "https://localhost:8080/"
        },
        "id": "4iashHJBFkQf",
        "outputId": "e334222e-9a20-4815-a717-2a46e1cf6956"
      },
      "source": [
        "#Call API (date)\n",
        "record_date = '2020-08-17'\n",
        "covid_url = 'https://covid19-api.org/api/status?date='+record_date\n",
        "df_covid_worldwide = pd.io.json.json_normalize(get_json(covid_url))\n",
        "print(df_covid_worldwide.head())"
      ],
      "execution_count": 27,
      "outputs": [
        {
          "output_type": "stream",
          "text": [
            "  country          last_update    cases  deaths  recovered\n",
            "0      US  2020-08-16T23:27:50  5401167  170019    1833067\n",
            "1      BR  2020-08-16T23:27:50  3340197  107852    2655017\n",
            "2      IN  2020-08-16T23:27:50  2589682   49980    1862258\n",
            "3      RU  2020-08-16T23:27:50   920719   15653     731444\n",
            "4      ZA  2020-08-16T23:27:50   587345   11839     472377\n"
          ],
          "name": "stdout"
        },
        {
          "output_type": "stream",
          "text": [
            "/usr/local/lib/python3.6/dist-packages/ipykernel_launcher.py:4: FutureWarning: pandas.io.json.json_normalize is deprecated, use pandas.json_normalize instead\n",
            "  after removing the cwd from sys.path.\n"
          ],
          "name": "stderr"
        }
      ]
    },
    {
      "cell_type": "markdown",
      "metadata": {
        "id": "KZmZlzhkFo_w"
      },
      "source": [
        "# **Mengubah Format date**\n",
        "Ubah format kolom '`last_update`' menggunakan fungsi `to_datetime` dengan format `YYYY-mm-dd HH:MM:SS`. Lalu ubah bentuk datetime ke bentuk date dengan fungsi `date()` melalui fungsi lambda untuk mengubah setiap row-nya."
      ]
    },
    {
      "cell_type": "code",
      "metadata": {
        "id": "onGcbpx4FzbD"
      },
      "source": [
        "#Change format date 1\n",
        "df_covid_worldwide['last_update'] = pd.to_datetime(df_covid_worldwide['last_update'], format='%Y-%m-%d %H:%M:%S')\n",
        "\n",
        "#Change format date 2\n",
        "df_covid_worldwide['last_update'] = df_covid_worldwide['last_update'].apply(lambda x: x.date())\n"
      ],
      "execution_count": 28,
      "outputs": []
    },
    {
      "cell_type": "markdown",
      "metadata": {
        "id": "QGbYPmdSF4hM"
      },
      "source": [
        "# **Mengambil Data Countries**\n",
        "Buatlah dataframe countries dengan memanggil variable `countries_url` ke api covid19-api.org. Lalu ubah nama kolom alpha2 menjadi country, kemudian ambil hanya kolom name dan country saja untuk dataframe countries (`df_countries`) ini. Akhirnya cetaklah lima data teratas dari dataframe countries (`df_countries`)."
      ]
    },
    {
      "cell_type": "code",
      "metadata": {
        "colab": {
          "base_uri": "https://localhost:8080/"
        },
        "id": "d_iCRKCfGE-Y",
        "outputId": "4bb155b0-5b48-4454-f9d6-539b5c441116"
      },
      "source": [
        "#Call API Countries\n",
        "countries_url = 'https://covid19-api.org/api/countries'\n",
        "df_countries = pd.io.json.json_normalize(get_json(countries_url))\n",
        "df_countries = df_countries.rename(columns={'alpha2': 'country'})[['name','country']]\n",
        "print(df_countries.head())"
      ],
      "execution_count": 29,
      "outputs": [
        {
          "output_type": "stream",
          "text": [
            "          name country\n",
            "0  Afghanistan      AF\n",
            "1      Albania      AL\n",
            "2      Algeria      DZ\n",
            "3      Andorra      AD\n",
            "4       Angola      AO\n"
          ],
          "name": "stdout"
        },
        {
          "output_type": "stream",
          "text": [
            "/usr/local/lib/python3.6/dist-packages/ipykernel_launcher.py:3: FutureWarning: pandas.io.json.json_normalize is deprecated, use pandas.json_normalize instead\n",
            "  This is separate from the ipykernel package so we can avoid doing imports until\n"
          ],
          "name": "stderr"
        }
      ]
    },
    {
      "cell_type": "markdown",
      "metadata": {
        "id": "Ptn7dhQRGNbj"
      },
      "source": [
        "# **3. Kasus Covid-19 di Dunia dan Negara Mana yang Tertinggi**"
      ]
    },
    {
      "cell_type": "markdown",
      "metadata": {
        "id": "ZBjUT2vTGed6"
      },
      "source": [
        "# **Merge Covid19 Data dan Countries**\n",
        "Selanjutnya adalah mapping data covid19 dan data country. Gunakan fungsi ***merge*** pada pandas untuk menggabungkan `df_covid_worldwide` dan `df_countries`. Untuk merge, gunakan kolom `country`. Lalu print sample data dengan menggunakan `head()`.\n",
        "\n"
      ]
    },
    {
      "cell_type": "code",
      "metadata": {
        "colab": {
          "base_uri": "https://localhost:8080/"
        },
        "id": "gvZLkeovGpfE",
        "outputId": "395f7c69-857e-4d94-a62b-f4cde6a66da3"
      },
      "source": [
        "#Merge Data and Countries\n",
        "df_covid_denormalized = pd.merge(df_covid_worldwide, df_countries, on='country')\n",
        "print(df_covid_denormalized.head())"
      ],
      "execution_count": 30,
      "outputs": [
        {
          "output_type": "stream",
          "text": [
            "  country last_update    cases  deaths  recovered                      name\n",
            "0      US  2020-08-16  5401167  170019    1833067  United States of America\n",
            "1      BR  2020-08-16  3340197  107852    2655017                    Brazil\n",
            "2      IN  2020-08-16  2589682   49980    1862258                     India\n",
            "3      RU  2020-08-16   920719   15653     731444        Russian Federation\n",
            "4      ZA  2020-08-16   587345   11839     472377              South Africa\n"
          ],
          "name": "stdout"
        }
      ]
    },
    {
      "cell_type": "markdown",
      "metadata": {
        "id": "GXkb6Lf9GrKO"
      },
      "source": [
        "# **Menghitung Fatality Ratio**\n",
        "Tambahkan satu kolom tambahan yaitu `fatality_ratio`, yang merupakan pembagian antara kolom `deaths` dan `cases`.\n"
      ]
    },
    {
      "cell_type": "code",
      "metadata": {
        "id": "sSWKd0o4G0PB"
      },
      "source": [
        "#Add fatality_ratio table\n",
        "df_covid_denormalized['fatality_ratio'] = df_covid_denormalized['deaths']/df_covid_denormalized['cases']\n"
      ],
      "execution_count": 31,
      "outputs": []
    },
    {
      "cell_type": "markdown",
      "metadata": {
        "id": "1FAuGFYWG4N_"
      },
      "source": [
        "# **Negara-negara dengan Fatality Ratio Tertinggi**\n",
        "Ambil top 20 negara dengan value kolom `fatality_ratio` tertinggi dengan menggunakan fungsi `sort_values`."
      ]
    },
    {
      "cell_type": "code",
      "metadata": {
        "id": "6deEvY4AH7sG"
      },
      "source": [
        "#Countries with the Highest Fatality Ratio\n",
        "df_top_20_fatality_rate = df_covid_denormalized.sort_values(by='fatality_ratio', ascending=False).head(20)"
      ],
      "execution_count": 32,
      "outputs": []
    },
    {
      "cell_type": "markdown",
      "metadata": {
        "id": "6vroYoUiH_1A"
      },
      "source": [
        "# **Import Library Visualisasi**\n",
        "Importlah library matplotlib.pyplot sebagai aliasnya plt."
      ]
    },
    {
      "cell_type": "code",
      "metadata": {
        "id": "sK64O4Z4IBdn"
      },
      "source": [
        "#Data Visualization\n",
        "import matplotlib.pyplot as plt"
      ],
      "execution_count": 33,
      "outputs": []
    },
    {
      "cell_type": "markdown",
      "metadata": {
        "id": "6UcN-WU5IFB_"
      },
      "source": [
        "# **Visualisasi Negara dengan Fatality Ratio Tertinggi**\n",
        "Untuk memvisualisasikan negara-negara dengan kasus fatality rate tertinggi akibat covid-19 ini dapat dilakukan dengan menggunakan bar chart.  Di sini tentukan terlebih dahulu isi dari variable x axis dan y axis.\n",
        "\n",
        "Variabel **x axis** adalah kolom `name`, dan kolom y atau **value** nya adalah kolom `fatality_ratio` dan gunakan fungsi `plt.bar`([value x axis, value y axis]).\n",
        "\n",
        "Label sumbu x diputar 90 derajat untuk menghindari bertumpuknya nama-nama negara pada posisi 0 derajat."
      ]
    },
    {
      "cell_type": "code",
      "metadata": {
        "colab": {
          "base_uri": "https://localhost:8080/",
          "height": 729
        },
        "id": "5Dk4zUFAIWJX",
        "outputId": "6e3fe1f9-acc3-4f11-87ac-df99d9f899c5"
      },
      "source": [
        "#Data Visualization using Bar Chart\n",
        "import matplotlib.pyplot as plt\n",
        "plt.figure(figsize=(15, 10))\n",
        "x = df_top_20_fatality_rate['name']\n",
        "y = df_top_20_fatality_rate['fatality_ratio']\n",
        "plt.bar(x,y)\n",
        "plt.xlabel('Country Name')\n",
        "plt.ylabel('Fatality Rate')\n",
        "plt.title('Top 20 Highest Fatality Rate Countries')\n",
        "plt.xticks(rotation=90)\n",
        "plt.tight_layout()\n",
        "plt.show()"
      ],
      "execution_count": 34,
      "outputs": [
        {
          "output_type": "display_data",
          "data": {
            "image/png": "[encoded data removed]",
            "text/plain": [
              "<Figure size 1080x720 with 1 Axes>"
            ]
          },
          "metadata": {
            "tags": [],
            "needs_background": "light"
          }
        }
      ]
    },
    {
      "cell_type": "markdown",
      "metadata": {
        "id": "IuAXWhKII0RO"
      },
      "source": [
        "# **4. Kasus Covid-19 di ASEAN**"
      ]
    },
    {
      "cell_type": "markdown",
      "metadata": {
        "id": "Y6duYH0BI3_x"
      },
      "source": [
        "# **Menggabungkan Dataframe**\n",
        "Selanjutnya adalah membandingkan kasus covid19 di Indonesia (ID) dengan negara-negara tetangga, yaitu:\n",
        "\n",
        "* MY -> Malaysia,\n",
        "* SG -> Singapure,\n",
        "* TH -> Thailand,\n",
        "* VN -> Vietnam.\n",
        "\n",
        "Untuk itu, api country dipanggil berkali-kali sebanyak negara yang akan kita bandingkan.\n",
        "\n",
        "Gunakan fungsi `pd.io.json.json_normalize` dan panggil function yang sudah dibuat sebelumnya, yaitu `get_json()`.\n",
        "\n",
        "Gunakan fungsi datetime untuk merubah string ke bentuk datetime (YYYY-mm-dd HH:MM:SS) yang selanjutnya diubah ke format date.\n",
        "\n",
        "Cetaklah lima data teratas dari dataframe yang telah dibentuk."
      ]
    },
    {
      "cell_type": "code",
      "metadata": {
        "colab": {
          "base_uri": "https://localhost:8080/"
        },
        "id": "4epUPwoyJJ7s",
        "outputId": "63290072-2ab6-4e42-d6d9-bac351cad779"
      },
      "source": [
        "#Comparing the covid19 cases in Indonesia with neighboring countries,they are:\n",
        "# ME -> Malaysia,\n",
        "# SG -> Singapore,\n",
        "# TH -> Thailand,\n",
        "# VN -> Vietnam.\n",
        "\n",
        "countries = ['ID','MY','SG','TH','VN']\n",
        "i = 0\n",
        "for country in countries:\n",
        "\tcovid_timeline_url = 'https://covid19-api.org/api/timeline/'+country\n",
        "\tdf_covid_timeline = pd.io.json.json_normalize(get_json(covid_timeline_url))\n",
        "\tdf_covid_timeline['last_update'] = pd.to_datetime(df_covid_timeline['last_update'], format='%Y-%m-%dT%H:%M:%S')\n",
        "\tdf_covid_timeline['last_update'] = df_covid_timeline['last_update'].apply(lambda x: x.date())\n",
        "\n",
        "\tif i==0:\n",
        "\t\tdf_covid_timeline_merged = df_covid_timeline\n",
        "\telse:\n",
        "\t\tdf_covid_timeline_merged = df_covid_timeline.append(df_covid_timeline_merged, ignore_index=True)\n",
        "\ti=i+1\n",
        "    \n",
        "print(df_covid_timeline_merged.head())"
      ],
      "execution_count": 35,
      "outputs": [
        {
          "output_type": "stream",
          "text": [
            "/usr/local/lib/python3.6/dist-packages/ipykernel_launcher.py:11: FutureWarning: pandas.io.json.json_normalize is deprecated, use pandas.json_normalize instead\n",
            "  # This is added back by InteractiveShellApp.init_path()\n"
          ],
          "name": "stderr"
        },
        {
          "output_type": "stream",
          "text": [
            "  country last_update  cases  deaths  recovered\n",
            "0      VN  2020-11-22   1306      35       1142\n",
            "1      VN  2020-11-21   1306      35       1142\n",
            "2      VN  2020-11-20   1305      35       1142\n",
            "3      VN  2020-11-19   1304      35       1142\n",
            "4      VN  2020-11-18   1300      35       1124\n"
          ],
          "name": "stdout"
        }
      ]
    },
    {
      "cell_type": "markdown",
      "metadata": {
        "id": "618kcXn3JNMY"
      },
      "source": [
        "# **Merge Data Covid19 Dengan Data Country**\n",
        "Lalu gabungkan `df_covid_timeline_merged` dengan `df_countries` dengan kolom country sebagai pivot."
      ]
    },
    {
      "cell_type": "code",
      "metadata": {
        "id": "h9bCRI_UJRN_"
      },
      "source": [
        "#Merge Covid19 Data with Country Data\n",
        "df_covid_timeline_denormalized = pd.merge(df_covid_timeline_merged, df_countries, on='country')"
      ],
      "execution_count": 36,
      "outputs": []
    },
    {
      "cell_type": "markdown",
      "metadata": {
        "id": "w-6c5weHJVIC"
      },
      "source": [
        "# **Kasus Covid-19 di ASEAN pada Bulan Maret 2020**\n",
        "Filter kolom `last_update` dari data covid19 sehingga hanya data dari tanggal 1 Maret 2020 ke atas yang diambil. Format `datetime.date` menggunakan format YYYY, mm, dd."
      ]
    },
    {
      "cell_type": "code",
      "metadata": {
        "id": "5He7B3OtJbBa"
      },
      "source": [
        "#Covid19 cases start March, 1st, 2020 - 9 September 2020\n",
        "import datetime\n",
        "df_covid_timeline_denormalized = df_covid_timeline_denormalized[(df_covid_timeline_denormalized['last_update'] >= datetime.date(2020,3,1))]\n"
      ],
      "execution_count": 37,
      "outputs": []
    },
    {
      "cell_type": "markdown",
      "metadata": {
        "id": "XP6XT34UJfsK"
      },
      "source": [
        "# **Visualisasi Kasus Covid-19 di ASEAN**\n",
        "Buat variable x dan y dimana x adalah tanggal (`last_update`) pada tiap-tiap negara dan y adalah jumlah kasus (`cases`) pada tiap-tiap negara. Lalu plot x dan y untuk menggambar line chart."
      ]
    },
    {
      "cell_type": "code",
      "metadata": {
        "colab": {
          "base_uri": "https://localhost:8080/",
          "height": 297
        },
        "id": "5lvz3s1MJj9_",
        "outputId": "c99b5943-9498-4f2f-929e-fd8f069f28db"
      },
      "source": [
        "#Visualization of Covid19 Cases in ASEAN\n",
        "import matplotlib.pyplot as plt\n",
        "plt.clf()\n",
        "countries = ['ID','MY','SG','TH','VN']\n",
        "for country in countries:\n",
        "\tcountry_data = df_covid_timeline_denormalized['country']==country\n",
        "\tx = df_covid_timeline_denormalized[country_data]['last_update']\n",
        "\ty = df_covid_timeline_denormalized[country_data]['cases']\n",
        "\tplt.plot(x, y, label = country)\n",
        "\n",
        "plt.legend()\n",
        "plt.xlabel('Record Date')\n",
        "plt.ylabel('Total Cases')\n",
        "plt.title('Asean Covid19 Cases Comparison')\n",
        "plt.xticks(rotation=90)\n",
        "plt.tight_layout()\n",
        "plt.show()"
      ],
      "execution_count": 38,
      "outputs": [
        {
          "output_type": "display_data",
          "data": {
            "image/png": "[encoded data removed]",
            "text/plain": [
              "<Figure size 432x288 with 1 Axes>"
            ]
          },
          "metadata": {
            "tags": [],
            "needs_background": "light"
          }
        }
      ]
    },
    {
      "cell_type": "markdown",
      "metadata": {
        "id": "5yDfFTogLJi4"
      },
      "source": [
        "# **Penutup/Kesimpulan**\n",
        "Selamat kamu telah menyelesaikan Project Visualisasi: Kasus Covid-19 di Dunia dan ASEAN."
      ]
    }
  ]
}